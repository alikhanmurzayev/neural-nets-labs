{
 "cells": [
  {
   "cell_type": "code",
   "execution_count": 1,
   "metadata": {},
   "outputs": [],
   "source": [
    "from kanren import *\n",
    "from kanren.core import lall"
   ]
  },
  {
   "cell_type": "code",
   "execution_count": 37,
   "metadata": {},
   "outputs": [],
   "source": [
    "def left(l, r, list):\n",
    "    return membero((l,r), zip(list, list[1:]))\n",
    "\n",
    "def next(q, p, list):\n",
    "    return conde([left(q, p, list)], [left(p, q, list)])"
   ]
  },
  {
   "cell_type": "code",
   "execution_count": 55,
   "metadata": {},
   "outputs": [],
   "source": [
    "# Каждому кораблю — в свой порт\n",
    "# В порте пять кораблей.\n",
    "# 1. Греческий корабль отчаливает в шесть. Он везет кофе.\n",
    "# 2. У корабля, который в середине — черная труба.\n",
    "# 3. Английский корабль отплывает в девять.\n",
    "# 4. Французский корабль, у которого синяя труба, пришвартован слева от корабля, который везет кофе.\n",
    "# 5. Справа от корабля, на котором груз какао, корабль, который плывет в Марсель.\n",
    "# 6. Корабль под бразильским флагом направляется на Манилы.\n",
    "# 7. Рядом с кораблем, на котором рис, — корабль с зеленой трубой.\n",
    "# 8. Корабль, плывущий в Геную, отходит в пять.\n",
    "# 9. Испанский корабль отплывает в семь и находится справа от корабля, плывущего в Марсель.\n",
    "# 10. Корабль с красной трубой направляется в Гамбург.\n",
    "# 11. Рядом с кораблем, который отчаливает в семь, корабль с белой трубой.\n",
    "# 12. На крайнем корабле — зерно.\n",
    "# 13. Корабль с черной трубой отплывает в восемь.\n",
    "# 14. Корабль с зерном пришвартован рядом с кораблем, на котором груз риса.\n",
    "# 15. Корабль, следующий до Гамбурга, отчаливает в 6.\n",
    "# Вопрос:\n",
    "# Который корабль плывет в Порт-Саид? Который гружен чаем?\n",
    "\n",
    "port = var()\n",
    "\n",
    "rules = lall(\n",
    "    # В порте пять кораблей\n",
    "    (eq, (var(), var(), var(), var(), var()), port), \n",
    "    # 1. Греческий корабль отчаливает в шесть. Он везет кофе.\n",
    "    (membero, ('Greece', '6', 'coffee', var(), var()), port), \n",
    "    # 2. У корабля, который в середине — черная труба.\n",
    "    (eq, (var(), var(), (var(), var(), var(), 'black', var()), var(), var()), port), \n",
    "    # 3. Английский корабль отплывает в девять.\n",
    "    (membero, ('England', '9', var(), var(), var()), port), \n",
    "    # 4. Французский корабль, у которого синяя труба, пришвартован слева от корабля, который везет кофе.\n",
    "    (left, ('France', var(), var(), 'blue', var()), (var(), var(), 'coffee', var(), var()), port), \n",
    "    # 5. Справа от корабля, на котором груз какао, корабль, который плывет в Марсель.\n",
    "    (left, (var(), var(), 'cacao', var(), var()), (var(), var(), var(), var(), 'Marseilles'), port), \n",
    "    # 6. Корабль под бразильским флагом направляется на Манилы.\n",
    "    (membero, ('Brazil', var(), var(), var(), 'Manila'), port), \n",
    "    # 7. Рядом с кораблем, на котором рис, — корабль с зеленой трубой.\n",
    "    (next, (var(), var(), 'rise', var(), var()), (var(), var(), var(), 'green', var()), port), \n",
    "    # 8. Корабль, плывущий в Геную, отходит в пять.\n",
    "    (membero, (var(), '5', var(), var(), 'Genua'), port), \n",
    "    # 9. Испанский корабль отплывает в семь и находится справа от корабля, плывущего в Марсель.\n",
    "    (left, (var(), var(), var(), var(), 'Marseilles'), ('Spain', '7', var(), var(), var()), port), \n",
    "    # 10. Корабль с красной трубой направляется в Гамбург.\n",
    "    (membero, (var(), var(), var(), 'red', 'Hamburg'), port), \n",
    "    # 11. Рядом с кораблем, который отчаливает в семь, корабль с белой трубой.\n",
    "    (next, (var(), '7', var(), var(), var()), (var(), var(), var(), 'white', var()), port), \n",
    "    # 12. На крайнем корабле — зерно\n",
    "    # -----------------------------------------------------------------------------\n",
    "    (eq, (var(), var(), var(), var(), (var(), var(), 'corn', var(), var())), port), \n",
    "    # -----------------------------------------------------------------------------\n",
    "    # 13. Корабль с черной трубой отплывает в восемь.\n",
    "    (membero, (var(), '8', var(), 'black', var()), port), \n",
    "    # 14. Корабль с зерном пришвартован рядом с кораблем, на котором груз риса.\n",
    "    (next, (var(), var(), 'corn', var(), var()), (var(), var(), 'rise', var(), var()), port), \n",
    "    # 15. Корабль, следующий до Гамбурга, отчаливает в 6.\n",
    "    (membero, (var(), '6', var(), var(), 'Hamburg'), port), \n",
    "    \n",
    "    # Вопрос:\n",
    "    # Который корабль плывет в Порт-Саид? Который гружен чаем?\n",
    "    (membero, (var(), var(), var(), var(), 'Port-Said'), port), \n",
    "    (membero, (var(), var(), 'tea', var(), var()), port)\n",
    ")\n",
    "\n",
    "# 1) country\n",
    "# 2) departure\n",
    "# 3) goods\n",
    "# 4) tube color\n",
    "# 5) destination"
   ]
  },
  {
   "cell_type": "code",
   "execution_count": 56,
   "metadata": {},
   "outputs": [
    {
     "name": "stdout",
     "output_type": "stream",
     "text": [
      "Корабль, который направляется в Порт-Саид: Spain\n",
      "Корабль, груженный чаем: France\n"
     ]
    }
   ],
   "source": [
    "solutions = run(0, port, rules)\n",
    "\n",
    "ans1 = [ship for ship in solutions[0] if ship[4] == 'Port-Said'][0][0]\n",
    "ans2 = [ship for ship in solutions[0] if ship[2] == 'tea'][0][0]\n",
    "\n",
    "print 'Корабль, который направляется в Порт-Саид:', ans1\n",
    "print 'Корабль, груженный чаем:', ans2"
   ]
  }
 ],
 "metadata": {
  "kernelspec": {
   "display_name": "Python 2",
   "language": "python",
   "name": "python2"
  },
  "language_info": {
   "codemirror_mode": {
    "name": "ipython",
    "version": 2
   },
   "file_extension": ".py",
   "mimetype": "text/x-python",
   "name": "python",
   "nbconvert_exporter": "python",
   "pygments_lexer": "ipython2",
   "version": "2.7.17"
  }
 },
 "nbformat": 4,
 "nbformat_minor": 4
}
