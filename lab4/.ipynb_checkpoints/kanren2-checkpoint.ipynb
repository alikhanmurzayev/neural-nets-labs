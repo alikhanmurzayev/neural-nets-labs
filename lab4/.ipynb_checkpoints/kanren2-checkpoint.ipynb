{
 "cells": [
  {
   "cell_type": "code",
   "execution_count": 1,
   "metadata": {},
   "outputs": [],
   "source": [
    "from kanren import *\n",
    "from kanren.core import lall"
   ]
  },
  {
   "cell_type": "code",
   "execution_count": 2,
   "metadata": {},
   "outputs": [],
   "source": [
    "def left(q, p, list):\n",
    "    return membero((q,p), zip(list, list[1:]))\n",
    "\n",
    "def next(q, p, list):\n",
    "    return conde([left(q, p, list)], [left(p, q, list)])"
   ]
  },
  {
   "cell_type": "code",
   "execution_count": 3,
   "metadata": {},
   "outputs": [],
   "source": [
    "houses = var()"
   ]
  },
  {
   "cell_type": "code",
   "execution_count": 4,
   "metadata": {},
   "outputs": [],
   "source": [
    "rules_zebra = lall(\n",
    "    # На улице стоят пять домов.\n",
    "    (eq, (var(), var(), var(), var(), var()), houses), \n",
    "    # Англичанин живёт в красном доме.\n",
    "    (membero, ('englishman', 'red', var(), var(), var()), houses), \n",
    "    # У испанца есть собака.\n",
    "    (membero, ('hispanic', var(), 'dog', var(), var()), houses), \n",
    "    # В зелёном доме пьют кофе.\n",
    "    (membero, (var(), 'green', var(), 'coffee', var()), houses), \n",
    "    # Украинец пьёт чай.\n",
    "    (membero, ('ukranian', var(), var(), 'tea', var()), houses), \n",
    "    # Зелёный дом стоит сразу справа от белого дома.\n",
    "    (left, (var(), 'green', var(), var(), var()), (var(), 'white', var(), var(), var()), houses), \n",
    "    # Тот, кто курит Old Gold, разводит улиток.\n",
    "    (membero, (var(), var(), 'ducks', var(), 'Old Gold'), houses), \n",
    "    # В жёлтом доме курят Dunhill.\n",
    "    (membero, (var(), 'yellow', var(), var(), 'Dunhill'), houses), \n",
    "    # В центральном доме пьют молоко.\n",
    "    (eq, (var(), var(), (var(), var(), var(), 'milk', var()), var(), var()), houses), \n",
    "    # Норвежец живёт в первом доме.\n",
    "    (eq, (('norwegian', var(), var(), var(), var()), var(), var(), var(), var()), houses), \n",
    "    # Сосед того, кто курит Chesterfield, держит лису.\n",
    "    (next, (var(), var(), var(), var(), 'Chesterfield'), (var(), var(), 'fox', var(), var()), houses), \n",
    "    # В доме по соседству с тем, в котором держат лошадь, курят Dunhill.\n",
    "    (next, (var(), var(), var(), var(), 'Dunhill'), (var(), var(), 'horse', var(), var()), houses), \n",
    "    # Тот, кто курит Lucky Strike, пьёт апельсиновый сок.\n",
    "    (membero, (var(), var(), var(), 'orange juice', 'Lucky Strike'), houses), \n",
    "    # Японец курит Parliament.\n",
    "    (membero, ('japanese', var(), var(), var(), 'Parliament'), houses), \n",
    "    # Норвежец живёт рядом с синим домом.\n",
    "    (next, ('norwegian', var(), var(), var(), var()), (var(), 'blue', var(), var(), var()), houses), \n",
    "    # Кто пьёт воду?\n",
    "    (membero, (var(), var(), var(), 'water', var()), houses), \n",
    "    # Кто держит зебру?\n",
    "    (membero, (var(), var(), 'zebra', var(), var()), houses)\n",
    ")"
   ]
  },
  {
   "cell_type": "code",
   "execution_count": 5,
   "metadata": {},
   "outputs": [
    {
     "data": {
      "text/plain": [
       "((('norwegian', 'yellow', 'fox', 'water', 'Dunhill'),\n",
       "  ('ukranian', 'blue', 'horse', 'tea', 'Chesterfield'),\n",
       "  ('englishman', 'red', 'ducks', 'milk', 'Old Gold'),\n",
       "  ('japanese', 'green', 'zebra', 'coffee', 'Parliament'),\n",
       "  ('hispanic', 'white', 'dog', 'orange juice', 'Lucky Strike')),)"
      ]
     },
     "execution_count": 5,
     "metadata": {},
     "output_type": "execute_result"
    }
   ],
   "source": [
    "solutions = run(0, houses, rules_zebra)\n",
    "solutions"
   ]
  },
  {
   "cell_type": "code",
   "execution_count": 6,
   "metadata": {},
   "outputs": [
    {
     "name": "stdout",
     "output_type": "stream",
     "text": [
      "Norwegian drinks water\n",
      "Japanese's pet is zebra\n"
     ]
    }
   ],
   "source": [
    "print 'Norwegian drinks water'\n",
    "print \"Japanese's pet is zebra\"\n"
   ]
  },
  {
   "cell_type": "code",
   "execution_count": 7,
   "metadata": {},
   "outputs": [],
   "source": [
    "# 1) национальность\n",
    "# 2) цвет дома\n",
    "# 3) питомец\n",
    "# 4) напиток\n",
    "# 5) сигареты\n",
    "\n",
    "# На улице стоят пять домов.\n",
    "# Англичанин живёт в красном доме.\n",
    "# У испанца есть собака.\n",
    "# В зелёном доме пьют кофе.\n",
    "# Украинец пьёт чай.\n",
    "# Зелёный дом стоит сразу справа от белого дома.\n",
    "# Тот, кто курит Old Gold, разводит улиток.\n",
    "# В жёлтом доме курят Dunhill.\n",
    "# В центральном доме пьют молоко.\n",
    "# Норвежец живёт в первом доме.\n",
    "# Сосед того, кто курит Chesterfield, держит лису.\n",
    "# В доме по соседству с тем, в котором держат лошадь, курят Dunhill.\n",
    "# Тот, кто курит Lucky Strike, пьёт апельсиновый сок.\n",
    "# Японец курит Parliament.\n",
    "# Норвежец живёт рядом с синим домом.\n",
    "# Кто пьёт воду?\n",
    "# Кто держит зебру?"
   ]
  },
  {
   "cell_type": "code",
   "execution_count": 4,
   "metadata": {},
   "outputs": [],
   "source": [
    "rules_zebraproblem = lall(\n",
    "    (eq, (var(), var(), var(), var(), var()), houses),\n",
    "    (membero,('Англичанин', var(), var(), var(), 'красный'), houses),\n",
    "    (membero,('Испанец', var(), var(), 'собака', var()), houses),\n",
    "    (membero,(var(), var(), 'кофе', var(), 'зелёный'), houses),\n",
    "    (membero,('Украинец', var(), 'чай', var(), var()), houses),\n",
    "    (left,(var(), var(), var(), var(), 'зелёный'), (var(), var(), var(), var(), 'белый'), houses),\n",
    "    (membero,(var(), 'Old Gold', var(), 'улитки', var()), houses),\n",
    "    (membero,(var(), 'Dunhill', var(), var(), 'жёлтый'), houses),\n",
    "    (eq,(var(), var(), (var(), var(), 'молоко', var(), var()), var(), var()), houses),\n",
    "    (eq,(('Норвежец', var(), var(), var(), var()), var(), var(), var(), var()), houses),\n",
    "    (next,(var(), 'Chesterfield', var(), var(), var()), (var(), var(), var(), 'лиса', var()), houses),\n",
    "    (next,(var(), 'Dunhill', var(), var(), var()), (var(), var(), var(), 'лошадь', var()), houses),\n",
    "    (membero,(var(), 'Lucky Strike', 'апельсиновый сок', var(), var()), houses),\n",
    "    (membero,('Японец', 'Parliament', var(), var(), var()), houses),\n",
    "    (next,('Норвежец', var(), var(), var(), var()), (var(), var(), var(), var(), 'синий'), houses),\n",
    "    (membero,(var(), var(), var(), 'зебра', var()), houses),    \n",
    "    (membero,(var(), var(), 'вода', var(), var()), houses)\n",
    ")"
   ]
  },
  {
   "cell_type": "code",
   "execution_count": null,
   "metadata": {},
   "outputs": [],
   "source": []
  },
  {
   "cell_type": "code",
   "execution_count": null,
   "metadata": {},
   "outputs": [],
   "source": []
  }
 ],
 "metadata": {
  "kernelspec": {
   "display_name": "Python 2",
   "language": "python",
   "name": "python2"
  },
  "language_info": {
   "codemirror_mode": {
    "name": "ipython",
    "version": 2
   },
   "file_extension": ".py",
   "mimetype": "text/x-python",
   "name": "python",
   "nbconvert_exporter": "python",
   "pygments_lexer": "ipython2",
   "version": "2.7.17"
  }
 },
 "nbformat": 4,
 "nbformat_minor": 4
}
