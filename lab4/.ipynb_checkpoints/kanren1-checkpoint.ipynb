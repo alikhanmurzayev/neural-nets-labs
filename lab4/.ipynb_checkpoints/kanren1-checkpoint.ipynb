{
 "cells": [
  {
   "cell_type": "raw",
   "metadata": {},
   "source": [
    "Steve has a blue car\n",
    "The person who owns the cat lives in Canada\n",
    "Matthew lives in the USA\n",
    "The person with the black car lives in Australia\n",
    "Jack has a cat\n",
    "Alfred lives in Australia\n",
    "The person who has a dog lives in France\n",
    "Who has a rabbit?"
   ]
  },
  {
   "cell_type": "markdown",
   "metadata": {},
   "source": [
    "<img src=\"pz1.png\">"
   ]
  },
  {
   "cell_type": "markdown",
   "metadata": {},
   "source": [
    "logpy\n",
    "prolog"
   ]
  },
  {
   "cell_type": "code",
   "execution_count": 1,
   "metadata": {},
   "outputs": [],
   "source": [
    "from kanren import *\n",
    "from kanren.core import lall"
   ]
  },
  {
   "cell_type": "code",
   "execution_count": 3,
   "metadata": {},
   "outputs": [],
   "source": [
    "people = var()\n",
    "#var - logic variable"
   ]
  },
  {
   "cell_type": "code",
   "execution_count": 4,
   "metadata": {},
   "outputs": [],
   "source": [
    "rules = lall(\n",
    "    #lall - goal conjunction, lany - disjunction\n",
    "    \n",
    "    #There are 4 people\n",
    "    (eq, (var(), var(), var(), var()), people),\n",
    "    \n",
    "    #eq - goal constructor, to state that two expressions are equal\n",
    "    \n",
    "    # Steve has a blue car\n",
    "    (membero, ('Steve', var(), 'blue', var()), people),\n",
    "    #item is a member of people\n",
    "    #name, animal, color, country\n",
    "    \n",
    "    # The person who owns the cat lives in Canada\n",
    "    (membero, (var(), 'cat', var(), 'Canada'), people),\n",
    "    \n",
    "    # Matthew lives in the USA\n",
    "    (membero, ('Matthew', var(), var(), 'USA'), people),\n",
    "    \n",
    "    # The person with the black car lives in Australia\n",
    "    (membero, (var(), var(), 'black', 'Australia'), people),\n",
    "    \n",
    "    # Jack has a cat\n",
    "    (membero, ('Jack', 'cat', var(), var()), people),\n",
    "    \n",
    "    # Alfred lives in Australia\n",
    "    (membero, ('Alfred', var(), var(), 'Australia'), people),\n",
    "    (membero, (var(), 'dog', var(), 'France'), people),\n",
    "    (membero, (var(), 'rabbit', var(), var()), people)\n",
    ")\n",
    "# The person who has a dog lives in France\n",
    "# Who has a rabbit?"
   ]
  },
  {
   "cell_type": "code",
   "execution_count": 6,
   "metadata": {},
   "outputs": [],
   "source": [
    "solutions = run(0, people, rules)"
   ]
  },
  {
   "cell_type": "code",
   "execution_count": 7,
   "metadata": {},
   "outputs": [
    {
     "name": "stdout",
     "output_type": "stream",
     "text": [
      "\n",
      "Matthew is the owner of the rabbit\n"
     ]
    }
   ],
   "source": [
    "output = [house for house in solutions[0] if 'rabbit' in house][0][0]\n",
    "print('\\n' + output + ' is the owner of the rabbit')"
   ]
  },
  {
   "cell_type": "code",
   "execution_count": 8,
   "metadata": {},
   "outputs": [
    {
     "name": "stdout",
     "output_type": "stream",
     "text": [
      "\n",
      "Here are all the details:\n",
      "\n",
      "Name\t\tPet\t\tColor\t\tCountry\n",
      "=========================================================\n",
      "\n",
      "Steve\t\tdog\t\tblue\t\tFrance\n",
      "\n",
      "Jack\t\tcat\t\t~_30\t\tCanada\n",
      "\n",
      "Matthew\t\trabbit\t\t~_32\t\tUSA\n",
      "\n",
      "Alfred\t\t~_34\t\tblack\t\tAustralia\n"
     ]
    }
   ],
   "source": [
    "print('\\nHere are all the details:')\n",
    "attribs = ['Name', 'Pet', 'Color', 'Country']\n",
    "print('\\n' + '\\t\\t'.join(attribs))\n",
    "print('=' * 57)\n",
    "for item in solutions[0]:\n",
    "    print('')\n",
    "    print('\\t\\t'.join([str(x) for x in item]))"
   ]
  },
  {
   "cell_type": "code",
   "execution_count": 10,
   "metadata": {},
   "outputs": [
    {
     "data": {
      "text/plain": [
       "(('Steve', 'dog', 'blue', 'France'),\n",
       " ('Jack', 'cat', ~_30, 'Canada'),\n",
       " ('Matthew', 'rabbit', ~_32, 'USA'),\n",
       " ('Alfred', ~_34, 'black', 'Australia'))"
      ]
     },
     "execution_count": 10,
     "metadata": {},
     "output_type": "execute_result"
    }
   ],
   "source": [
    "solutions[0]"
   ]
  },
  {
   "cell_type": "code",
   "execution_count": null,
   "metadata": {},
   "outputs": [],
   "source": []
  }
 ],
 "metadata": {
  "kernelspec": {
   "display_name": "Python 2",
   "language": "python",
   "name": "python2"
  },
  "language_info": {
   "codemirror_mode": {
    "name": "ipython",
    "version": 2
   },
   "file_extension": ".py",
   "mimetype": "text/x-python",
   "name": "python",
   "nbconvert_exporter": "python",
   "pygments_lexer": "ipython2",
   "version": "2.7.17"
  }
 },
 "nbformat": 4,
 "nbformat_minor": 4
}
