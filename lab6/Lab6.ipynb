{
 "cells": [
  {
   "cell_type": "code",
   "execution_count": 1,
   "metadata": {
    "colab": {},
    "colab_type": "code",
    "id": "twBmPWIxDeal"
   },
   "outputs": [],
   "source": [
    "import numpy as np\n",
    "import matplotlib.pyplot as plt\n",
    "from PIL import Image\n",
    "import matplotlib.animation as animation\n",
    "from IPython.display import HTML\n",
    "from skimage import draw\n",
    "%matplotlib inline\n",
    "#comment                                                                           "
   ]
  },
  {
   "cell_type": "code",
   "execution_count": 2,
   "metadata": {
    "colab": {},
    "colab_type": "code",
    "id": "UYGJsE-zDear"
   },
   "outputs": [],
   "source": [
    "def plot_images(img_list):\n",
    "    def init():\n",
    "        img.set_data(img_list[0])\n",
    "        return (img,)\n",
    "\n",
    "    def animate(i):\n",
    "        img.set_data(img_list[i])\n",
    "        return (img,)\n",
    "\n",
    "    plt.figure(figsize = (15,15))\n",
    "    fig = plt.figure()\n",
    "    ax = fig.gca()\n",
    "    img = ax.imshow(img_list[0])\n",
    "    anim = animation.FuncAnimation(fig, animate, init_func=init,\n",
    "                                 frames=len(img_list), interval=20, blit=True)\n",
    "    return anim\n"
   ]
  },
  {
   "cell_type": "code",
   "execution_count": 9,
   "metadata": {
    "colab": {},
    "colab_type": "code",
    "id": "Gc_r3VOJDeat"
   },
   "outputs": [],
   "source": [
    "class World():\n",
    "    def __init__(self, rocket, target, width=768, height=640, stop_limit=100):\n",
    "        self.rocket = rocket\n",
    "        self.target = target\n",
    "        self.width = width\n",
    "        self.height = height\n",
    "        self.time = 0\n",
    "        self.stop_limit = stop_limit\n",
    "        self.worlds = [np.ones((width, height),dtype=np.uint8)]\n",
    "        self.distance = []\n",
    "        \n",
    "    \n",
    "    def gen_img(self, world):\n",
    "        buff = np.array((world, world, world)) * 255\n",
    "        return buff.reshape(self.width, self.height, 3)\n",
    "    \n",
    "    def run(self):\n",
    "        print(\"Run the world\")\n",
    "\n",
    "        while True:\n",
    "            self.time = self.time + 1\n",
    "            xt, yt = self.target.move(self.time)\n",
    "            xr, yr = self.rocket.move(self.time, self.target)\n",
    "            self.distance.append(np.linalg.norm(np.array([xt, yt]) - np.array([xr, yr])))\n",
    "            rt, ct = draw.circle(int(xt), int(yt), radius=10, shape=self.worlds[-1].shape)\n",
    "            self.worlds[-1][rt, ct] = 0\n",
    "            rr, cr = draw.circle(int(xr), int(yr), radius=10, shape=self.worlds[-1].shape)\n",
    "            self.worlds[-1][rr, cr] = 0\n",
    "            self.worlds.append(np.ones((self.width, self.height), dtype=np.uint8))\n",
    "            if self.time > self.stop_limit:\n",
    "                print(len(self.worlds))\n",
    "                print(\"Stop the world\")\n",
    "                break\n",
    "            if self.distance[-1]<10:\n",
    "                break\n",
    "        return self.worlds\n"
   ]
  },
  {
   "cell_type": "code",
   "execution_count": 23,
   "metadata": {
    "colab": {},
    "colab_type": "code",
    "id": "19PtinByDeaw"
   },
   "outputs": [],
   "source": [
    "class RectRocket():\n",
    "    def __init__(self, x0, y0, v, angle):\n",
    "        self.x = x0\n",
    "        self.y = y0\n",
    "        self.v = v\n",
    "        self.angle = angle\n",
    "    \n",
    "    def move(self,time,target):\n",
    "        deltax = self.x - target.x\n",
    "        deltay = self.y - target.y\n",
    "        # Put your code here\n",
    "        # Calculate your angle and apply it to new (x,y) coords\n",
    "        # Steps:\n",
    "        # 1. Calculate alpha = arctan(deltax/deltay)\n",
    "        # 2. Calcualte new_x = old_x + sin/cos(alpha)*v\n",
    "        alpha = np.arctan(deltay/deltax)\n",
    "#         self.x -= np.tan(alpha) * self.v\n",
    "        \n",
    "        self.x = self.x - self.v\n",
    "        self.y -= np.sign(deltay) * self.v\n",
    "        return (self.x, self.y)\n",
    "    \n",
    "    \n",
    "class Target():\n",
    "    def __init__(self, r1, f1, r2, f2, x0, y0):\n",
    "        self.x0 = x0\n",
    "        self.y0 = y0\n",
    "        self.r1 = r1\n",
    "        self.f1 = f1\n",
    "        self.r2 = r2\n",
    "        self.f2 = f2\n",
    "        self.move(0)\n",
    "        \n",
    "    def move(self,time):\n",
    "        self.x = self.x0 + self.r1 * np.cos(time*2*np.pi*self.f1) + self.r2 * np.cos(time*2*np.pi*self.f2)\n",
    "        self.y = self.y0 + self.r1 * np.sin(time*2*np.pi*self.f1) + self.r2 * np.sin(time*2*np.pi*self.f2)\n",
    "        return (self.x,self.y)"
   ]
  },
  {
   "cell_type": "code",
   "execution_count": 24,
   "metadata": {
    "colab": {
     "base_uri": "https://localhost:8080/",
     "height": 594
    },
    "colab_type": "code",
    "id": "N6Fd5dmhDeay",
    "outputId": "f4453f5f-3923-4335-c12c-ea3ebf6da3bf"
   },
   "outputs": [
    {
     "name": "stdout",
     "output_type": "stream",
     "text": [
      "Run the world\n"
     ]
    },
    {
     "data": {
      "text/html": [
       "<video width=\"432\" height=\"288\" controls autoplay loop>\n",
       "  <source type=\"video/mp4\" src=\"data:video/mp4;base64,AAAAHGZ0eXBNNFYgAAACAGlzb21pc28yYXZjMQAAAAhmcmVlAAAiMm1kYXQAAAKuBgX//6rcRem9\n",
       "5tlIt5Ys2CDZI+7veDI2NCAtIGNvcmUgMTUyIHIyODU0IGU5YTU5MDMgLSBILjI2NC9NUEVHLTQg\n",
       "QVZDIGNvZGVjIC0gQ29weWxlZnQgMjAwMy0yMDE3IC0gaHR0cDovL3d3dy52aWRlb2xhbi5vcmcv\n",
       "eDI2NC5odG1sIC0gb3B0aW9uczogY2FiYWM9MSByZWY9MyBkZWJsb2NrPTE6MDowIGFuYWx5c2U9\n",
       "MHgzOjB4MTEzIG1lPWhleCBzdWJtZT03IHBzeT0xIHBzeV9yZD0xLjAwOjAuMDAgbWl4ZWRfcmVm\n",
       "PTEgbWVfcmFuZ2U9MTYgY2hyb21hX21lPTEgdHJlbGxpcz0xIDh4OGRjdD0xIGNxbT0wIGRlYWR6\n",
       "b25lPTIxLDExIGZhc3RfcHNraXA9MSBjaHJvbWFfcXBfb2Zmc2V0PS0yIHRocmVhZHM9OSBsb29r\n",
       "YWhlYWRfdGhyZWFkcz0xIHNsaWNlZF90aHJlYWRzPTAgbnI9MCBkZWNpbWF0ZT0xIGludGVybGFj\n",
       "ZWQ9MCBibHVyYXlfY29tcGF0PTAgY29uc3RyYWluZWRfaW50cmE9MCBiZnJhbWVzPTMgYl9weXJh\n",
       "bWlkPTIgYl9hZGFwdD0xIGJfYmlhcz0wIGRpcmVjdD0xIHdlaWdodGI9MSBvcGVuX2dvcD0wIHdl\n",
       "aWdodHA9MiBrZXlpbnQ9MjUwIGtleWludF9taW49MjUgc2NlbmVjdXQ9NDAgaW50cmFfcmVmcmVz\n",
       "aD0wIHJjX2xvb2thaGVhZD00MCByYz1jcmYgbWJ0cmVlPTEgY3JmPTIzLjAgcWNvbXA9MC42MCBx\n",
       "cG1pbj0wIHFwbWF4PTY5IHFwc3RlcD00IGlwX3JhdGlvPTEuNDAgYXE9MToxLjAwAIAAAAfDZYiE\n",
       "AC///vau/MsrRwuVLh1Ze7NR8uhJcv2IMH1oAAADAADVaeUGUqI74PKIfUCn7SNlLLnHo2nk3shO\n",
       "iLnXEIHOJbGOqQAANKfESQ3YPvTFW00PtpRU4ERTPbFrGmyhaoujORWolU2uL8GvkWNPlXi8csXv\n",
       "lbjzEjjRKYVtwIXWw4cAtCEZu8D6Khr3ay+gOkQ2SC3mcQ4z0DnlFk2/5KkFxhecStoPgpclFzjq\n",
       "Ttsb7PgfazWFegjYjXvld69OMBhW+j8bWZyqfUuZpiSulG6KoHmRIUmUZGPQVF4R0azsUUC6+wDQ\n",
       "q92vqY1n/zky3+vUn2F2SS1V2A6Z1v7+arfAfdGhRv1ytzE0du1FhCnCmDM7/D3AF7oPnm1DHhLd\n",
       "Y/WEn05DDnButWq29/YA+XdFDyZM5gcASul+dUAUwAgBfp07FQcM05/N4r8JbRjQrJOekwVYjppv\n",
       "bZut3WglqTs73oVD3XW4uGpjeTvfHelIwB4T/5HTSUIwWPpzZFaea1tSpdhsb46prtlVDjzRJ6JG\n",
       "s69XOCZYN2l/DGXWB2N3Bal5Ld36PSS3C0r9rw5ctES5GYBoa2ALh9fRcT/O/fTyjluIep8vwQQp\n",
       "VDUDMYzTzhqh2OC2aUxBqytAkNJT47hwYtY09i0Og0zbMg6niWuO9lrF6Y8a8BtzsnDb7tHfdj92\n",
       "p70GyF430Cu8S80aX1MPAB/lemNmiyLmc08OkvXmtElC0PRK9/qKar8hftMZEe+FcNS75DU+bZUX\n",
       "md3va+PiSyS5J9l66jM/POU2ttnAO8zhsRhphUk6QrUnVTn6CtGi/lhP9fudHhGnnu3upRfrSJqI\n",
       "0BhmqU7GPeCv0ixkigjhsVz1g3NgatesPZAegWqZ39va+S9DKoBxzL78cTV2cSnDzJUUSkt9P+GH\n",
       "UL+fHHspC5eVWAJ43i4mzoJj6UKPO8l7uqtRVFvlV9EqKV4HI6PBU+vhFvOYAJFff8aKYu3rQhxg\n",
       "rXgvi0P5D4iFYUKMWXTIMXpVQOuNyjp+nGOnJ8ab/bTtqHzoa94zZNmhSVI+8UFmxQUhqKJEz7im\n",
       "bUfWGcPCr1SwaZznssse8XQKKj4l4SGfTdOxa2sNtgRV16dI7xJDm/XA9rA7b7f+hlLgkf8C2VV3\n",
       "EfDDoaEuzeTKftRBvhSoh5un+6jZ5eE7XA/J5uAQRNN9is4jF/+VpzwyQqsG8pfDJ5SK8Sgmq03O\n",
       "49+IKLFIMwe/tUUVOdnnG9NOMenhMA+oQDmZ2+2d4BoduK4hQeXgP8aOcyH6iAtJpQfyjkr4mvKZ\n",
       "Qb0Ps56m3VkzMIuIw/lbFM/Y1Rs58Jj2bsFLnprrmlwAeKYT/5guaIWvZ17MVntlq0e0UIieZUMk\n",
       "iWCcbvqA7OmGGnbcp5V7hjg54/oS1IjYZfgZhQCu2+AssbQFZgaqhsWfixIuv8sImXRfKfKrqHsM\n",
       "DnY9oQABwF656EfOxtTVaUrn2aUyrTCRPFXwmL4BENbAH9pC3TaynvjcVPPctmeMpabJNAzsRUSu\n",
       "sNzyGSZeKAVlF1f/BKMREXI/P0kebpygZeBhuElQDePsYtG2CNhBPF9W2aeyIl9k0KoSMN6OpDuA\n",
       "9HbCb+/ViqK3iR8dOT0VvGwF25zZFUo6nOi3TIe+EsUqRXWug+M2n/aqkoKJBY3u/b/jQy+vWpOE\n",
       "IAw7SF13QTkrusSFv3N9jrEM48qt6jpFC4CzaEW5rwBalsJjmjEBBO/K3OT2J9yC9quIp5nyFkOw\n",
       "BbO6vDbb0XD/WzEBeMp8G62e+Lsyt2UTqCXzd+52U9+/JcXUhisdyfpVLAyEulyEw9/fFZ3mFP9g\n",
       "ugNSvkUvc949C4Gm1mFEQgBhBjnC2M2MWiQBbic15ZKL7cW1Vu/Zdv//ZDfQabt3xRldY3IcKBzl\n",
       "nH/kZ8Jb2vVjL+Ik81MB/Jkm0v4VsF2aVfXa69sMerMd19o87Krd2wAOlWnBr18pZEHa/8ZG7TLL\n",
       "am3WnuvHYk5ON3f+CyWEHZXYTAa6x/eiqojwADj8VOvCz9MqYZ/BIQyF/d8F9wHXQQAqOAKv2ApY\n",
       "BkW5qIheB3Pgj4b/eGveEYKpWVUrizO9DokrVaR+pO/D/wr3523sf9cQ0X5gw6YJM4zPqQ8hWFfX\n",
       "1VL+BKlWjCYm1g9iBnDccmaZf1OkEhQ2dEylVYU2v24QUHCQ74BiX5C9oza9W/Ox9TNF02ZfzOV6\n",
       "5avFvKKpUQOr1HB0ZYu52E6TXZnn9BmVVh+vQx1koPtosDPHGfyULg+wG0/liKthrX+NWYbItNk+\n",
       "2LfcSGzSPt8WZo3KhDcZ4h7POM2RkBpq9z9oPy31zepIQzmdkVedW2CbJjjczYYWvoPjIPZDOIc1\n",
       "NfZlZvlgLSZ8oy89xXIr6S7TcawWnjpL5m6JQbbLFP+rM54FvaVfmN6KPVkdXIZ0zqy9OyWhuo+c\n",
       "lJDrN1PrTPrbVfV37owPO6WqKYa22sKVjxXpUehxekIMlHVufxBx2jb2Kt/Oxi1UfxcRhU9jVNgy\n",
       "AzcLSqlylvhTLyGLQwskPS0BzAOcNBERW9i6t+qboSE89dIe5DcJJstAFy5scuUT+fhIL5d78Xis\n",
       "blwaOSiuIdMWzgiTdvRn/398Afm4DGxuNlFyDuwWEDdXDJNsAArp5T/7W2pbIQAAATBBmiNsQv/+\n",
       "jLAQDn9cFOpcAT/YB8fndFT1mOwZbkFkPyregD5NQMVyUcf8tHMSmuyF+D9xOs1mMhNLikBzPDjb\n",
       "KZNEiC5KLWrjXIUXyij0LWNNJRbkGBOpZDw6jkSt+OV2+MR+Emteg2tl8MqED455eA363KUDq0LG\n",
       "ydMJqnNQ2Yl8VDcHq0Z4jg1Wo3xLX4I81uS9O3TEd4IJZ88bYDCU+UTM4IRjig0e1jHq4Vb02jif\n",
       "/g1+UiP87IHKVXuBhNkoDgT6WCC/CnOX/DngtfAAJ9f+DNZ1Q7uHcknN8O5y2c5QCI779Pk5Fafc\n",
       "NlFPLrt4dNKvLmTc7C6kZArYT4lKQlyJmCXOdkRQslokHAWMYAAVGP0Gp5A+xbW8Sf2nDoAQg8RM\n",
       "0WKFnQm4TJJlg4pOAAAASkGeQXiEfwLnT92Y7IyzFRVbrSCooAD8O8aTUqhhxvnwBSxVun+yDW+B\n",
       "1SZMm/2kKItuTnyITDhKOpk56P9GjrDdAmsjwd2oy2a/AAAAPgGeYmpH/wBedcoQNkaAAlHRATZH\n",
       "78NAvSFY0L9Xco3CzKforsEumS5Hjirs0ad/+pLL5lL/tyEQsrhdYLSQAAAAYkGaZ0moQWiZTAhf\n",
       "//6MsBAOf1dZy7Ha/lgBald41IQeoQO8nLfjjCIKrGFzvOK/Utx8AGevdwbo0/O2jsw+BVQtEvG4\n",
       "WsTUXT5XPmM4Jv4bjIoAXWmj+krQn3V3FL/R7okJAAAANkGehUURLCP/AO1EUkzG8gyMa1yGIAWS\n",
       "TdZFlG21z25zK7gtvEzXeAVNrO0gD8HQL99FeEr7NwAAAEQBnqR0R/8AunpYzHBggNwJABLVwKQk\n",
       "XKymBhJA7AAFOR4cAiXysKR4tosEz/v2F3fxTOR8RChsd5S9H34tdUvq1kerCQAAAEMBnqZqR/8A\n",
       "uc8TeMv4H6q3OLwAP46lfeCTVkJEzMaRbsZ+EVBrfRTYThkkfz3gda2OcKUO5fOnVR5mMHDrW6zj\n",
       "IqchAAAAWkGaqEmoQWyZTAhf//6MsAFu3YomMr/AA4d0JgpB2uq/T7SE7FwVn//PbIttU2VkgWqw\n",
       "cTnP37dlIkF9h0VDLxk17mPu+JWZZjbvwcWKQEmSxiEntrodbbMBsAAAAGNBmstJ4QpSZTAhf/6M\n",
       "sAFuCvXRgTYATS7MLocMifYnOJThBjKNEGNgQqElyHUAUwnDxlioiiF2i7fjyQaKQP047HU2YH2Z\n",
       "WVsD60oRvfXGOpyU4LHoOiHL6wMipFsPO4dLDYAAAAAlQZ7pRTRMI/8A7URSTUpHtRXqomWRZ3X5\n",
       "/Fnv9bEF3DPzDO2OcQAAADgBnwpqR/8Aul9EToABN+fYWZwxkkP8Q6YDHNpkfCQiVNXRvcDhpvb0\n",
       "x2JLx9/LjWzC2J8h9BMSoAAAAFVBmw5JqEFomUwIX//+jLABbzrdcWmwAmXFLTGOKMhccZZKqD4l\n",
       "iB60jYRUPaZinuqiNv6hh2JxYJqbHeU4x56ZMAIVIufpr1nv26Bi04/JohYiMHbgAAAAQUGfLEUR\n",
       "LCP/AO1EUk1KShkAIz/DuaIh8xgN+yAATegKLsnv5FwJBZBFA3Ymqn/GX7xo4fGkr9OdW9puwI6b\n",
       "9BcRAAAALAGfTWpH/wC6X0RgngAt90brHk73E9c2pSXYiUlbLknbFcwJJ/okqKSI+undAAAASUGb\n",
       "UkmoQWyZTAhf//6MsAFv5lyswjJ9WtnP0YAJ29Sjws8SWhOK11QWErwo8SutDRz5IPvt9ub08Q1J\n",
       "PTjIzA6+sCO74atP6ykAAAAyQZ9wRRUsI/8A7URSPgOx2mL5s/UwAC53iPdEbap0HQUzv4hxLOw7\n",
       "/48FhmvobUPZMHAAAAAvAZ+PdEf/ALneaAMOY4ygA8KkBUO4KQ7L28N+ed8slT3UBqrAYqxsBOst\n",
       "fStlJ3gAAAAzAZ+Rakf/ALok3GJ7AugAAP4fl9DVwY+uwil/k+k8XEpReH1ue+9vSTMw5PsF10mo\n",
       "gsvbAAAAR0GblEmoQWyZTBRMM//+nhAFbHi2ADwcudIsprreg0oLdIVn1TO53aYBfbTcC6KSurzQ\n",
       "V2gKbV4Dt2iYZ4+48GBy5hwjKuAsAAAALwGfs2pH/wWaAEu+lQJqNh+rMAD8KDmtTDFPNeL5cVka\n",
       "hGiamPpzj3Jz1exzkkvCAAAAPUGbuEnhClJlMCGf/p4QAsKs/zsWwAPFFY0csFCYt11MNhYUF4u5\n",
       "rBLmCO9517ZpKClEzIljfYvEJT3D0I8AAAA4QZ/WRTRMI/8A7UTO+9tpoRhckAIr86d5hxjZ0CIm\n",
       "89iFBmBTTvdZM14UtKMABi+UW45ztEfvtoAAAAA6AZ/1dEf/AWv6YB27xjuW+TjQI+t8tr38xA5y\n",
       "wCq/O6ro3PJohbbsnmGJIx3HoTXKcpNTeJWS5g5NoQAAADABn/dqR/8Ba+uILmYfYuACtoRNczsy\n",
       "JIkRvn5d4+eakam3SBft1IJuk1rqoSeiBjkAAABqQZv8SahBaJlMCF///oywAslcp7zN2AEI+693\n",
       "N+GmfuJa6R5PGl3cpet0wwXluA3L4Q8QNxuzp8oh05GGoLM0VocpO6f+GJldEsfELa37SRkbcmMP\n",
       "KNCx7Emf3GquOav3YLY/Mbj5uAgPGgAAADlBnhpFESwj/wDtRNF9C3akAC6BrB+ssye/bD9OfXB2\n",
       "0lDlVC9Dd5cJkEhTybD8jDZjMdEWo7yDM7cAAAAoAZ45dEf/AXTx8uJSAAmlOpbzj3YN7rMW02st\n",
       "I7G3U+8F30CbP38eYAAAACgBnjtqR/8BdR9zywpzakAEpJgWKfSqW2mi5y0kKMpwstWVGFuxv2PN\n",
       "AAAAXUGaIEmoQWyZTAhf//6MsAYTfvMASTttrhsfhi3Xsnz6u8sdav4/KEEpoFQ5nQEMoiJSzudU\n",
       "LFC1+G8miXBvwD8WUNj5PBzNWUXidXzXaNHxMrnxzrfnsnafqoJk7wAAACNBnl5FFSwj/wDtQ+dk\n",
       "Hm3yygBKpL72PAVE2r34pZS5NLa0EAAAAEEBnn10R/8Bawcs8UoAJqvC9HsGI9BqyJX2WNUzFvDs\n",
       "ndFbNfzs92pTR0hLJwPphdiEsg+Xxmfri2kWOHlaQhgWOAAAADgBnn9qR/8BdMqf4j9cuAEy0J84\n",
       "ws3/CGy/7QfmP7etSIX7e3/F0z0zAdDfOxr1WwA/2Wi/vhkbKQAAAEtBmmNJqEFsmUwIX//+jLAF\n",
       "6td/gaiQANqPTi54ilWBE8kMgW5+7CFGRaQyb43ZRfr80VmQv4Pfj27JxjZx0eJKVImRD706Vo7f\n",
       "oa0AAAAwQZ6BRRUsI/8BywsIXbBXa6aNJIAhd16A5mi/0rWagJwxESiZLwqOMDw0IVocqZJxAAAA\n",
       "OwGeompH/wX7xmUn2CL7PUHTQAqm2tRI2zuFOQVGVQWlGEHaj31N20QNbUhLJiSR6zLWnOhMvJF3\n",
       "dxsoAAAAakGapkmoQWyZTAhf//6MsCpZ/VU5jpBVDSrtNWzgemhT1yon1co+6bzKqo92kO3Fjr5P\n",
       "yzsePDUnnHtH+nANRTobyADxzvEM2BQVpN2RbCXKQcCaSJc45ZamHYg9g/TtyIy9Uz+5hItjqQsA\n",
       "AAAzQZ7ERRUsI/8D2CfK5j0MUE1B5LnWlQANPoO3sT4O2Y6HCFhBRXFpz2fDT6xpMW0orxuBAAAA\n",
       "KgGe5WpH/wX7wQlTxzelAA79Y4GSBSwJTvez2mSnYXKAUoaHFQGbyIvAcQAAAFZBmuhJqEFsmUwU\n",
       "TC///oywKln9TuCN872ktAATFCOyd1lEjcc5Erz9eWPx/b/KPdMCyLP4M3UIx6d4yAj2xGKQqcD7\n",
       "PedQq/3r+L5D+4CNlB135dTNwQAAADYBnwdqR/8F/e9isWZnBlAAh7A6TTH8jSvE0/vJPViRdyR7\n",
       "yYfNFdxNB9Rz+gsRyqo3eevN+rYAAABNQZsKSeEKUmUwUsL//oywKln9TsJlcuoiXzn3EADWZG3Z\n",
       "Gjalf6uRNgMSY6UhVIiDhN52rmPRwPvGz2M0uquVEn6K2N2dtgKPYGqo0kAAAABHAZ8pakf/BfiG\n",
       "nBLKLIJjoAGnfy4vrVb/aRFAUvqvULIEmOx8zZSrWPf0gHBIV+psl+W1R3GsSnhxA/qv4bhO6t3T\n",
       "mTzCvzEAAABZQZstSeEOiZTAhf/+jLAF50RvPpGFuAB+61GOoljinOqAyrB+JbIihboKYOZoOv2Z\n",
       "NFbb/GCSvMjn+l2SV8F2QmQBM/GnbivDGCyPo8r4rHiStvMx0KtDMGAAAABJQZ9LRRU8I/8Bybn9\n",
       "fVBw7LFAAg0bWxxx8E3b2tJP1Sxl/GAqTWdcXLq4Oema+FtEiXjLIuzziUNaLKMQKRdupf/x9dS1\n",
       "65/oQAAAADABn2xqR/8F+Ij1fXRSe8AIT4d7+7gKpWVVjkzoRXAzuBC1VBuDEupiCmKkP0cp/QkA\n",
       "AABLQZtwSahBaJlMCF///oywBhQn0vgAlq2oN6GJaO4k9ztrE8cVpJczJ+rtifnPjZk/g1s6OQ7/\n",
       "4CgZJW5MgG0+Hwse23kQbw/BlQSBAAAAQ0GfjkURLCP/AduGfyPVz0AHMvEfr1TxUbkQYenPLSM3\n",
       "DGkgrNhlQdJ5CJnINNeHjYQztJGqA5LcCak2WPI2wE+F0fEAAAAnAZ+vakf/BjPGNZhZ+TU//0Zl\n",
       "yzIisPu73vwACduheRue82/Bx6PgAAAAQkGbs0moQWyZTAhf//6MsAYZJeVW5o7PNvH2dYE7WrjX\n",
       "UxYYO0VumuMA+nhQmSet9/uTS9J+mt9X2yfT8xzBr09bQAAAADJBn9FFFSwj/wQCaD6LokJiyogA\n",
       "8JdSn8v0g9WevUp5GdEy1CTnAQ+aW109l6gPOmJoQQAAAC8Bn/JqR/8GM8Z3acAAGt6h41+J9oeM\n",
       "yxKt1B2GHgiVZr/ogabfzVD+TNybjy7K2AAAACxBm/ZJqEFsmUwIX//+jLAGHlDrth/MAC0XEmeh\n",
       "o9s5CR3dE6nTEEDih/5xwAAAADlBnhRFFSwj/wQCaD7XS+XPQAgGWOAd8M+1ESdEGe1XyIoRbOHS\n",
       "fYZ10qhm2GznFLrSWv5HiqFxriEAAAA5AZ41akf/BjPF3a3N7wyACHdyLoGb5ekCu7UgoX299Ubl\n",
       "NHjV1OtsYo6tOrHxb3YMIY41y+D0yvSAAAAAQEGaOEmoQWyZTBRML//+jLAGEkpJRn9eCYIgAynh\n",
       "Jm7leY8cYREUJeFBqtMK7MygsM4gKwCPgCPOy+WlSRSTKSEAAAArAZ5Xakf/BjXxeGg+Oh1iuxAW\n",
       "Wdya4ATiWBzjea6F6H/QdNQLd3sB3ulqXwAAAHZBmlxJ4QpSZTAhf/6MsAZPH2wBW+euY5mVIynl\n",
       "AmEm2AYkENBPimyKP21X/4d1IpxGBcpn0hdLXXcBe+e5uXMr1gfLFJu8peZ1onGSepDkzsMRInPI\n",
       "7S4P3CWkZ025WiGGgx33FsLzsWC1kHtPW16zqp9mY1JAAAAAOkGeekU0TCP/BAG0pkmA1BH/Sjs8\n",
       "AGZG+1H9izspt9d7wIHf+U+3alee2Lv4sG640spKFegk2+NQqoEAAAAxAZ6ZdEf/Bi8NmmZnFf0A\n",
       "B/WMi5Q+6gOtU9amrZV78mkvKQ5kJRGdrBocFdJEojy1qQAAACgBnptqR/8GM8giVtKZSnAAA2og\n",
       "t69mCHq/noZ2I/G2GC083TuljsN7AAAAhkGagEmoQWiZTAhX//44QBfmkOo/K6iAM+aUSgbHreIu\n",
       "pETwcw4dQhzr/+HAu18/PSYyKxmRu7U7+I+uOCqB4f/DtvS7/Bhu6cEABfwQLWoQV1efIpasL69v\n",
       "tAQmW/IAiwu0ZExTcalozxQF54H/jOOXLcH6siIauNV6NR/H4zamEsGauwYNAAAAOkGevkURLCP/\n",
       "A+lW+QciqrRQWXKs/iL/9xmiLt+oU9MNEjch+fACXh3IeNfoBwYSgcqzn0KDgfyUg4AAAAAwAZ7d\n",
       "dEf/Bi8RHo4AAP5rEgRnEx+Eq1Bo1w+3vIe8CfrGov/QC2263zul89goBuFfAAAAPAGe32pH/wYz\n",
       "yB0WCTNjV3F/a3oAPG/pa5pcCkUyM1/sBPxJCyf/wpf/7FrRk85wT/RL+AdFkjcKOPg34QAAAElB\n",
       "msJJqEFsmUwUTCv//jhAF+a5vfEBZ8EP6eZKEAIO7NBkRBen2Me0P5u6hYMMd5KCuhdooVRop9Cx\n",
       "4Mx9AUnqJx2RXSOWqjegAAAAMgGe4WpH/wY18kXSgwbpk3AABtPPi94ajiQaFhfVfKg8NpMj2kJ4\n",
       "kr9o5HTplpPt6kXBAAAAS0Ga5EnhClJlMFLCv/44QAuSMFKNnlrkgAh+JNXVL4R6IbCR2Ysv7BdR\n",
       "Mw1PDmu1OK84db0ON3apx3Tv9TsBjZa/6tBjN+vr7vBUwAAAADgBnwNqR/8BhYRRthwwAGoKKHFi\n",
       "TunMnn9lKneXpa1e6C14N/MytcQF5kCYL/YAlEPYB5yEa/RUwQAAAFlBmwVJ4Q6JlMCF//6MsAMC\n",
       "xTOzgwAZaVHhlY/yvoYmAiitSwFM6OiVALckzO1CtJojZJDca3NvUqtFe2Ly1nxOvMTSLUl0G4d2\n",
       "OfUasJMMnHgMGFC4CUDrgQAAAE1BmydJ4Q8mUwUVPC///oywAwAWVgBSZ8/AAcMNl0vIR6iADuWa\n",
       "1pNalLPFFgz8fl3QhNyTQMXAio/k0K6YyhEubzvzur0dXipQ6XwUEQAAACoBn0ZqR/8BgvJwWMBq\n",
       "oQAQm3n2Fkhd8ZZKGQ97LHwwWG7/qtdXK/TuIuEAAABEQZtJSeEPJlMFPC///oywAwI9BXPoAOHu\n",
       "xa5t+Sjyk/uXEMc/P9ONUA/wZ+Fc8N9njMOigThyijOLS5+qNl04wmI9DjgAAAApAZ9oakf/AYWp\n",
       "XdnOEAEFlqlQqy3QodOP478bCK2kg4/1anbyJcpHEXAAAAA3QZtrSeEPJlMFPC///oywAwI8+0/A\n",
       "AdivrSaCRVFf6JVvCx5xO82TKfGC6wg6SE+aXj4l3FCJeQAAAC8Bn4pqR/8Bg4Uc4SEAE5mgd62J\n",
       "TXfKRxiJcIaNMs/uv/wXqa1G2fjptqq3eRDxWwAAADpBm41J4Q8mUwU8L//+jLADAnynTbiBxgUb\n",
       "bdpABwXiWlW5kgTair34eRTt8lHeBiiFMT87u6pT/B8wAAAAKQGfrGpH/wGDnA8zAAJTlHRPnhbX\n",
       "7vmtsiyQTvVZisuthfYeu2e6kcY1AAAATkGbr0nhDyZTBTwv//6MsAGBR8uMLeoAB2HWalzQQFkU\n",
       "KI/R/5QwzpiF5cOVgmFizwYa09Ea3wrGIGLVCA4uYfL5UftNM5FSVpJhyXgXcQAAAC4Bn85qR/8A\n",
       "w7naZNpagAfld565KfBq2aOegx/FGXlVjn+EHqF1EaGQJzlz8F3BAAAAQkGb0UnhDyZTBTwv//6M\n",
       "sAGABh+XkagNJAAvgoGbaV3fpiG7S9mXJsxDBKGxPkz1+a0BfbBddqnzQyytDFR18ZEGNAAAADMB\n",
       "n/BqR/8AwXlYAt7eu6ADOSBaqUZ78A162nq+8tZgj2MVGIq2BYXN0/ZXOA/0vK7QhYAAAABfQZv1\n",
       "SeEPJlMCFf/+OEAF0Bx34GMAHKdFMhdhAJL7aqbkR9QP3g6awdLe6296t2zh0unSpFpdLDawm+vg\n",
       "ZdBERfILUmDuiBV3yfgbc13Huodm+SO5pcUHw2bfeAbcgxsAAAA5QZ4TRRE8I/8Ad/5xi7nvIxEw\n",
       "AmrkQq452Jm0SMrs1H9DNa/Vpa0ZLrs48IhUla9Tfd9JOJKgCB+QAAAANgGeMnRH/wDBkC1caACE\n",
       "DrGVpWiJWFZGuBK9ToEZ5osRyYq0RYmwYInGnx9OJuP7KB5G+42hCwAAADMBnjRqR/8AwXsxeOEa\n",
       "gAzuuC57hccfi0pHlk9t8JXCeCx+rqMwPOhxkzeXKjjcC+MjDekAAAAcQZo4SahBaJlMCP/8hABY\n",
       "zHNeU2WMisCffRiCzgAAADlBnlZFESwj/wB4EBb67oAJqrhrJd0h2yzjPj4knlbU49a32xE6t3DI\n",
       "fi6NPSziPWBwvm2g9EwgfkEAAAAwAZ53akf/AMGZE2DACak4xCkv5HkmnSHqb5Hf2gC2vAv3XBvj\n",
       "YMvHIV1IJ9XKW0IXAAAHCm1vb3YAAABsbXZoZAAAAAAAAAAAAAAAAAAAA+gAAAb0AAEAAAEAAAAA\n",
       "AAAAAAAAAAABAAAAAAAAAAAAAAAAAAAAAQAAAAAAAAAAAAAAAAAAQAAAAAAAAAAAAAAAAAAAAAAA\n",
       "AAAAAAAAAAAAAAAAAAIAAAY0dHJhawAAAFx0a2hkAAAAAwAAAAAAAAAAAAAAAQAAAAAAAAb0AAAA\n",
       "AAAAAAAAAAAAAAAAAAABAAAAAAAAAAAAAAAAAAAAAQAAAAAAAAAAAAAAAAAAQAAAAAGwAAABIAAA\n",
       "AAAAJGVkdHMAAAAcZWxzdAAAAAAAAAABAAAG9AAAAgAAAQAAAAAFrG1kaWEAAAAgbWRoZAAAAAAA\n",
       "AAAAAAAAAAAAMgAAAFkAVcQAAAAAAC1oZGxyAAAAAAAAAAB2aWRlAAAAAAAAAAAAAAAAVmlkZW9I\n",
       "YW5kbGVyAAAABVdtaW5mAAAAFHZtaGQAAAABAAAAAAAAAAAAAAAkZGluZgAAABxkcmVmAAAAAAAA\n",
       "AAEAAAAMdXJsIAAAAAEAAAUXc3RibAAAALNzdHNkAAAAAAAAAAEAAACjYXZjMQAAAAAAAAABAAAA\n",
       "AAAAAAAAAAAAAAAAAAGwASAASAAAAEgAAAAAAAAAAQAAAAAAAAAAAAAAAAAAAAAAAAAAAAAAAAAA\n",
       "AAAAAAAAABj//wAAADFhdmNDAWQAHv/hABhnZAAerNlBsJaEAAADAAQAAAMBkDxYtlgBAAZo6+PL\n",
       "IsAAAAAcdXVpZGtoQPJfJE/FujmlG88DI/MAAAAAAAAAGHN0dHMAAAAAAAAAAQAAAFkAAAEAAAAA\n",
       "FHN0c3MAAAAAAAAAAQAAAAEAAAKIY3R0cwAAAAAAAABPAAAAAQAAAgAAAAABAAAEAAAAAAIAAAEA\n",
       "AAAAAQAABQAAAAABAAACAAAAAAEAAAAAAAAAAQAAAQAAAAABAAACAAAAAAEAAAQAAAAAAgAAAQAA\n",
       "AAABAAAEAAAAAAIAAAEAAAAAAQAABQAAAAABAAACAAAAAAEAAAAAAAAAAQAAAQAAAAABAAADAAAA\n",
       "AAEAAAEAAAAAAQAABQAAAAABAAACAAAAAAEAAAAAAAAAAQAAAQAAAAABAAAFAAAAAAEAAAIAAAAA\n",
       "AQAAAAAAAAABAAABAAAAAAEAAAUAAAAAAQAAAgAAAAABAAAAAAAAAAEAAAEAAAAAAQAABAAAAAAC\n",
       "AAABAAAAAAEAAAQAAAAAAgAAAQAAAAABAAADAAAAAAEAAAEAAAAAAQAAAwAAAAABAAABAAAAAAEA\n",
       "AAQAAAAAAgAAAQAAAAABAAAEAAAAAAIAAAEAAAAAAQAABAAAAAACAAABAAAAAAEAAAQAAAAAAgAA\n",
       "AQAAAAABAAADAAAAAAEAAAEAAAAAAQAABQAAAAABAAACAAAAAAEAAAAAAAAAAQAAAQAAAAABAAAF\n",
       "AAAAAAEAAAIAAAAAAQAAAAAAAAABAAABAAAAAAEAAAMAAAAAAQAAAQAAAAABAAADAAAAAAEAAAEA\n",
       "AAAAAQAAAgAAAAABAAADAAAAAAEAAAEAAAAAAQAAAwAAAAABAAABAAAAAAEAAAMAAAAAAQAAAQAA\n",
       "AAABAAADAAAAAAEAAAEAAAAAAQAAAwAAAAABAAABAAAAAAEAAAMAAAAAAQAAAQAAAAABAAAFAAAA\n",
       "AAEAAAIAAAAAAQAAAAAAAAABAAABAAAAAAEAAAQAAAAAAgAAAQAAAAAcc3RzYwAAAAAAAAABAAAA\n",
       "AQAAAFkAAAABAAABeHN0c3oAAAAAAAAAAAAAAFkAAAp5AAABNAAAAE4AAABCAAAAZgAAADoAAABI\n",
       "AAAARwAAAF4AAABnAAAAKQAAADwAAABZAAAARQAAADAAAABNAAAANgAAADMAAAA3AAAASwAAADMA\n",
       "AABBAAAAPAAAAD4AAAA0AAAAbgAAAD0AAAAsAAAALAAAAGEAAAAnAAAARQAAADwAAABPAAAANAAA\n",
       "AD8AAABuAAAANwAAAC4AAABaAAAAOgAAAFEAAABLAAAAXQAAAE0AAAA0AAAATwAAAEcAAAArAAAA\n",
       "RgAAADYAAAAzAAAAMAAAAD0AAAA9AAAARAAAAC8AAAB6AAAAPgAAADUAAAAsAAAAigAAAD4AAAA0\n",
       "AAAAQAAAAE0AAAA2AAAATwAAADwAAABdAAAAUQAAAC4AAABIAAAALQAAADsAAAAzAAAAPgAAAC0A\n",
       "AABSAAAAMgAAAEYAAAA3AAAAYwAAAD0AAAA6AAAANwAAACAAAAA9AAAANAAAABRzdGNvAAAAAAAA\n",
       "AAEAAAAsAAAAYnVkdGEAAABabWV0YQAAAAAAAAAhaGRscgAAAAAAAAAAbWRpcmFwcGwAAAAAAAAA\n",
       "AAAAAAAtaWxzdAAAACWpdG9vAAAAHWRhdGEAAAABAAAAAExhdmY1Ny44My4xMDA=\n",
       "\">\n",
       "  Your browser does not support the video tag.\n",
       "</video>"
      ],
      "text/plain": [
       "<IPython.core.display.HTML object>"
      ]
     },
     "execution_count": 24,
     "metadata": {},
     "output_type": "execute_result"
    },
    {
     "data": {
      "text/plain": [
       "<Figure size 1080x1080 with 0 Axes>"
      ]
     },
     "metadata": {},
     "output_type": "display_data"
    },
    {
     "data": {
      "image/png": "[encoded data removed]",
      "text/plain": [
       "<Figure size 432x288 with 1 Axes>"
      ]
     },
     "metadata": {
      "needs_background": "light"
     },
     "output_type": "display_data"
    }
   ],
   "source": [
    "rocket = RectRocket(600,320,5,0)\n",
    "target = Target(25,0.01,50,0.01,100,100)\n",
    "world = World(rocket, target)\n",
    "\n",
    "\n",
    "HTML(plot_images(world.run()).to_html5_video())\n",
    "\n"
   ]
  },
  {
   "cell_type": "code",
   "execution_count": 6,
   "metadata": {
    "colab": {
     "base_uri": "https://localhost:8080/",
     "height": 282
    },
    "colab_type": "code",
    "id": "oUw5vNPODea2",
    "outputId": "0d8a8fe4-1f89-4403-a210-fc29c4509eb7"
   },
   "outputs": [
    {
     "data": {
      "text/plain": [
       "[<matplotlib.lines.Line2D at 0x7fadeb509810>]"
      ]
     },
     "execution_count": 6,
     "metadata": {},
     "output_type": "execute_result"
    },
    {
     "data": {
      "image/png": "[encoded data removed]",
      "text/plain": [
       "<Figure size 432x288 with 1 Axes>"
      ]
     },
     "metadata": {
      "needs_background": "light"
     },
     "output_type": "display_data"
    }
   ],
   "source": [
    "plt.plot(world.distance)"
   ]
  },
  {
   "cell_type": "code",
   "execution_count": 0,
   "metadata": {
    "colab": {},
    "colab_type": "code",
    "id": "wJRfpF5hDea5"
   },
   "outputs": [],
   "source": []
  }
 ],
 "metadata": {
  "colab": {
   "collapsed_sections": [],
   "name": "Lab6.ipynb",
   "provenance": []
  },
  "kernelspec": {
   "display_name": "Python 3",
   "language": "python",
   "name": "python3"
  },
  "language_info": {
   "codemirror_mode": {
    "name": "ipython",
    "version": 3
   },
   "file_extension": ".py",
   "mimetype": "text/x-python",
   "name": "python",
   "nbconvert_exporter": "python",
   "pygments_lexer": "ipython3",
   "version": "3.7.4"
  }
 },
 "nbformat": 4,
 "nbformat_minor": 1
}
