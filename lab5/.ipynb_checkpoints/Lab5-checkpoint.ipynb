{
 "cells": [
  {
   "cell_type": "markdown",
   "metadata": {
    "colab_type": "text",
    "id": "2-LKSTOBciPO"
   },
   "source": [
    "### Laboratory work 5: Fuzzy Numbers\n"
   ]
  },
  {
   "cell_type": "code",
   "execution_count": 1,
   "metadata": {
    "colab": {},
    "colab_type": "code",
    "id": "LZUfuApMcLPd"
   },
   "outputs": [],
   "source": [
    "import numpy as np\n",
    "import matplotlib.pyplot as plt"
   ]
  },
  {
   "cell_type": "code",
   "execution_count": 36,
   "metadata": {
    "colab": {
     "base_uri": "https://localhost:8080/",
     "height": 50
    },
    "colab_type": "code",
    "id": "v8F6CuBUcDnl",
    "outputId": "7b9f687c-64c9-4754-82f2-8708996ce6fe"
   },
   "outputs": [
    {
     "name": "stdout",
     "output_type": "stream",
     "text": [
      "9.399999999999999\n",
      "1.1860465116279069\n"
     ]
    }
   ],
   "source": [
    "class FuzzyValue:\n",
    "    def __init__(self, val, width):\n",
    "      self.val = float(val)\n",
    "      self.width = float(width)\n",
    "\n",
    "    def __call__(self, x):\n",
    "      buff = ((x - self.val) / self.width) * ((x - self.val) / self.width)\n",
    "      return max(0, 1-buff)  \n",
    "\n",
    "    def __truediv__(self, o):\n",
    "      # Put your code here\n",
    "      return self.val / o.val\n",
    "\n",
    "    def __add__(self, o): \n",
    "      # Put your code here\n",
    "      return self.val + o.val\n",
    "\n",
    "a = FuzzyValue(5.1, 1.5)\n",
    "b = FuzzyValue(4.3, 2)\n",
    "print(a + b)\n",
    "print(a / b)"
   ]
  },
  {
   "cell_type": "code",
   "execution_count": 38,
   "metadata": {
    "colab": {
     "base_uri": "https://localhost:8080/",
     "height": 282
    },
    "colab_type": "code",
    "id": "dAb_qAfQcSsd",
    "outputId": "ec0c3a33-3128-4487-93d9-b2dd3c9be11d"
   },
   "outputs": [
    {
     "data": {
      "image/png": "[encoded data removed]",
      "text/plain": [
       "<Figure size 432x288 with 1 Axes>"
      ]
     },
     "metadata": {
      "needs_background": "light"
     },
     "output_type": "display_data"
    }
   ],
   "source": [
    "xs = np.linspace(-7,7,num=1000)\n",
    "# a = FuzzyValue(0,3)\n",
    "y = [a(x) for x in xs]\n",
    "plt.plot(xs,y);"
   ]
  },
  {
   "cell_type": "code",
   "execution_count": 5,
   "metadata": {
    "colab": {
     "base_uri": "https://localhost:8080/",
     "height": 1000
    },
    "colab_type": "code",
    "id": "JVt8GdQkvPtM",
    "outputId": "42c71141-2074-4942-97ba-3b8a598f90dc"
   },
   "outputs": [],
   "source": [
    "# xs"
   ]
  },
  {
   "cell_type": "code",
   "execution_count": null,
   "metadata": {},
   "outputs": [],
   "source": []
  }
 ],
 "metadata": {
  "colab": {
   "name": "Lab5.ipynb",
   "provenance": []
  },
  "kernelspec": {
   "display_name": "Python 3",
   "language": "python",
   "name": "python3"
  },
  "language_info": {
   "codemirror_mode": {
    "name": "ipython",
    "version": 3
   },
   "file_extension": ".py",
   "mimetype": "text/x-python",
   "name": "python",
   "nbconvert_exporter": "python",
   "pygments_lexer": "ipython3",
   "version": "3.7.4"
  }
 },
 "nbformat": 4,
 "nbformat_minor": 1
}
