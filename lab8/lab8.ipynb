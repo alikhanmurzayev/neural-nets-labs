{
  "nbformat": 4,
  "nbformat_minor": 0,
  "metadata": {
    "kernelspec": {
      "display_name": "Python 3",
      "language": "python",
      "name": "python3"
    },
    "language_info": {
      "codemirror_mode": {
        "name": "ipython",
        "version": 3
      },
      "file_extension": ".py",
      "mimetype": "text/x-python",
      "name": "python",
      "nbconvert_exporter": "python",
      "pygments_lexer": "ipython3",
      "version": "3.7.4"
    },
    "colab": {
      "name": "lab8.ipynb",
      "provenance": [],
      "collapsed_sections": []
    },
    "accelerator": "GPU"
  },
  "cells": [
    {
      "cell_type": "markdown",
      "metadata": {
        "id": "VCmN1EsttLNF",
        "colab_type": "text"
      },
      "source": [
        "\n",
        "<h3 style=\"text-align: center;\"><b>На основе ШАД Яндекс</b></h3><h1 id=\"Домашнее-задание.-Обучение-нейронных-сетей-на-PyTorch.\">Домашнее задание. Обучение нейронных сетей на PyTorch.<a class=\"anchor-link\" href=\"#Домашнее-задание.-Обучение-нейронных-сетей-на-PyTorch.\">¶</a></h1><p>В этом домашнем задании вам предстоит предсказывать типы небесных объектов. Эту задачу вы будете решать с помощью нейронных сетей, используя библиотеку PyTorch.</p>\n",
        "<p>Вам необходимо заполнить пропуски в ноутбуке. Кое-где вас просят сделать выводы о проделанной работе. Постарайтесь ответить на вопросы обдуманно и развёрнуто.</p>\n"
      ]
    },
    {
      "cell_type": "code",
      "metadata": {
        "id": "DfnnKIPDtQjm",
        "colab_type": "code",
        "outputId": "3d5a8f14-837e-4cfa-bb79-551c497f7cc1",
        "colab": {
          "base_uri": "https://localhost:8080/",
          "height": 348
        }
      },
      "source": [
        "!nvidia-smi"
      ],
      "execution_count": 1,
      "outputs": [
        {
          "output_type": "stream",
          "text": [
            "Mon Apr 20 04:37:14 2020       \n",
            "+-----------------------------------------------------------------------------+\n",
            "| NVIDIA-SMI 440.64.00    Driver Version: 418.67       CUDA Version: 10.1     |\n",
            "|-------------------------------+----------------------+----------------------+\n",
            "| GPU  Name        Persistence-M| Bus-Id        Disp.A | Volatile Uncorr. ECC |\n",
            "| Fan  Temp  Perf  Pwr:Usage/Cap|         Memory-Usage | GPU-Util  Compute M. |\n",
            "|===============================+======================+======================|\n",
            "|   0  Tesla P4            Off  | 00000000:00:04.0 Off |                    0 |\n",
            "| N/A   42C    P8     7W /  75W |      0MiB /  7611MiB |      0%      Default |\n",
            "+-------------------------------+----------------------+----------------------+\n",
            "                                                                               \n",
            "+-----------------------------------------------------------------------------+\n",
            "| Processes:                                                       GPU Memory |\n",
            "|  GPU       PID   Type   Process name                             Usage      |\n",
            "|=============================================================================|\n",
            "|  No running processes found                                                 |\n",
            "+-----------------------------------------------------------------------------+\n"
          ],
          "name": "stdout"
        }
      ]
    },
    {
      "cell_type": "code",
      "metadata": {
        "id": "qOWtx-dctLNK",
        "colab_type": "code",
        "colab": {}
      },
      "source": [
        "import torch\n",
        "from torch import nn\n",
        "from torch import functional as F\n",
        "import pandas as pd\n",
        "import numpy as np\n",
        "from sklearn.model_selection import train_test_split\n",
        "from matplotlib import pyplot as plt"
      ],
      "execution_count": 0,
      "outputs": []
    },
    {
      "cell_type": "code",
      "metadata": {
        "id": "xpZnbJFztXZP",
        "colab_type": "code",
        "colab": {}
      },
      "source": [
        "device = torch.device('cuda:0' if torch.cuda.is_available() else 'cpu') "
      ],
      "execution_count": 0,
      "outputs": []
    },
    {
      "cell_type": "markdown",
      "metadata": {
        "id": "Zu0N8_FztLNd",
        "colab_type": "text"
      },
      "source": [
        "\n",
        "<h1 id=\"Дисклеймер-про-CrossEntropyLoss-и-NLLLoss\">Дисклеймер про CrossEntropyLoss и NLLLoss<a class=\"anchor-link\" href=\"#Дисклеймер-про-CrossEntropyLoss-и-NLLLoss\">¶</a></h1><p>Обычно в PyTorch не нужно делать Softmax как последний слой модели.</p>\n",
        "<ul>\n",
        "<li>Если Вы используете NLLLoss, то ему на вход надо давать лог вероятности, то есть выход слоя LogSoftmax. (Просто результат софтмакса, к которому применен логарифм)</li>\n",
        "<li>Если Вы используете CrossEntropyLoss, то применение LogSoftmax уже включено внутрь лосса, поэтому ему на вход надо подавать просто выход обычного линейного слоя без активации. По сути CrossEntropyLoss = LogSoftmax + NLLLoss</li>\n",
        "</ul>\n",
        "<p>Зачем такие сложности, чтобы посчитать обычную кросс энтропию? Дело в том, что нам в любом случае придется взять логарифм от результатов софтмакса, а если делать это одной функцией, то можно сделать более устойчивую реализацию, которая даст меньшую вычислительную погрешность.</p>\n",
        "<p>Таким образом, если у вас в конце сети, решающей задачу классификации, стоит просто линейный слой без активации, то вам нужно использовать CrossEntropy. В этой домашке везде используется лосс CrossEntropy</p>\n"
      ]
    },
    {
      "cell_type": "markdown",
      "metadata": {
        "id": "ykOdNfB8tLNn",
        "colab_type": "text"
      },
      "source": [
        "\n",
        "<h1 id=\"Задание-1.-Создайте-генератор-батчей.\">Задание 1. Создайте генератор батчей.<a class=\"anchor-link\" href=\"#Задание-1.-Создайте-генератор-батчей.\">¶</a></h1><p>В этот раз мы хотим сделать генератор, который будет максимально похож на то, что используется в реальном обучении.</p>\n",
        "<p>С помощью numpy вам нужно перемешать исходную выборку и выбирать из нее батчи размером batch_size, если размер выборки не делился на размер батча, то последний батч должен иметь размер меньше batch_size и состоять просто из всех оставшихся объектов. Возвращать нужно в формате (X_batch, y_batch). Необходимо написать именно генератор, то есть вместо return использовать yield.</p>\n",
        "<p>Хорошая статья про генераторы: <a href=\"https://habr.com/ru/post/132554/\">https://habr.com/ru/post/132554/</a></p>\n",
        "<p><strong>Ответ на задание - код</strong></p>\n"
      ]
    },
    {
      "cell_type": "code",
      "metadata": {
        "id": "9ME2auSWtLNs",
        "colab_type": "code",
        "colab": {}
      },
      "source": [
        "def batch_generator(X, y, batch_size):\n",
        "    np.random.seed(42)\n",
        "    perm = np.random.permutation(len(X))\n",
        "    \n",
        "    for start_index in range(0, len(perm), batch_size):\n",
        "        indices = perm[start_index:start_index+batch_size]\n",
        "        yield X[indices], y[indices]"
      ],
      "execution_count": 0,
      "outputs": []
    },
    {
      "cell_type": "markdown",
      "metadata": {
        "id": "S7kEPAREtLOB",
        "colab_type": "text"
      },
      "source": [
        "\n",
        "<p>Попробуем потестировать наш код</p>\n"
      ]
    },
    {
      "cell_type": "code",
      "metadata": {
        "id": "eEDO09ZAtLOF",
        "colab_type": "code",
        "colab": {}
      },
      "source": [
        "from inspect import isgeneratorfunction\n",
        "assert isgeneratorfunction(batch_generator), \"batch_generator должен быть генератором! В условии есть ссылка на доки\"\n",
        "\n",
        "X = np.array([\n",
        "              [1, 2, 3],\n",
        "              [4, 5, 6],\n",
        "              [7, 8, 9]\n",
        "])\n",
        "y = np.array([\n",
        "              1, 2, 3\n",
        "])\n",
        "\n",
        "# Проверим shape первого батча\n",
        "iterator = batch_generator(X, y, 2)\n",
        "X_batch, y_batch = next(iterator)\n",
        "assert X_batch.shape == (2, 3), y_batch.shape == (2,)\n",
        "assert np.allclose(X_batch, X[:2]), np.allclose(y_batch, y[:2])\n",
        "\n",
        "# Проверим shape последнего батча (их всего два)\n",
        "X_batch, y_batch = next(iterator)\n",
        "assert X_batch.shape == (1, 3), y_batch.shape == (1,)\n",
        "assert np.allclose(X_batch, X[2:]), np.allclose(y_batch, y[2:])\n",
        "\n",
        "# Проверим, что итерации закончились\n",
        "iter_ended = False\n",
        "try:\n",
        "    next(iterator)\n",
        "except StopIteration:\n",
        "    iter_ended = True\n",
        "assert iter_ended\n",
        "\n",
        "# Еще раз проверим то, сколько батчей создает итератор\n",
        "X = np.random.randint(0, 100, size=(1000, 100))\n",
        "y = np.random.randint(-1, 1, size=(1000, 1))\n",
        "num_iter = 0\n",
        "for _ in batch_generator(X, y, 3):\n",
        "    num_iter += 1\n",
        "assert num_iter == (1000 // 3 + 1)\n"
      ],
      "execution_count": 0,
      "outputs": []
    },
    {
      "cell_type": "markdown",
      "metadata": {
        "id": "xduXDTEctLOS",
        "colab_type": "text"
      },
      "source": [
        "\n",
        "<h1 id=\"Задание-2.-Обучите-модель-для-классификации-звезд\">Задание 2. Обучите модель для классификации звезд<a class=\"anchor-link\" href=\"#Задание-2.-Обучите-модель-для-классификации-звезд\">¶</a></h1><p>Загрузите датасет из файла sky_data.csv, разделите его на train/test и обучите на нем нейронную сеть (архитектура ниже). Обучайте на батчах с помощью оптимизатора Adam, lr подберите сами, пробуйте что-то вроде 1e-2</p>\n",
        "<p>Архитектура:</p>\n",
        "<ol>\n",
        "<li>Dense Layer с relu активацией и 50 нейронами</li>\n",
        "<li>Dropout 80% (если другой keep rate дает сходимость лучше, то можно изменить) (попробуйте 50%) </li>\n",
        "<li>BatchNorm</li>\n",
        "<li>Dense Layer с relu активацией и 100 нейронами</li>\n",
        "<li>Dropout 80% (если другой keep rate дает сходимость лучше, то можно изменить) (попробуйте для разнообразия 50%)</li>\n",
        "<li>BatchNorm</li>\n",
        "<li>Выходной Dense слой c количеством нейронов, равному количеству классов</li>\n",
        "</ol>\n",
        "<p>Лосс - CrossEntropy.</p>\n"
      ]
    },
    {
      "cell_type": "markdown",
      "metadata": {
        "id": "nAb90aHUtLOV",
        "colab_type": "text"
      },
      "source": [
        "\n",
        "<p>В датасете классы представлены строками, поэтому классы нужно закодировать. Для этого в строчке ниже объявлен dict, с помощью него и функции map превратите столбец с таргетом в целое число. Кроме того, за вас мы выделили признаки, которые нужно использовать.</p>\n"
      ]
    },
    {
      "cell_type": "markdown",
      "metadata": {
        "id": "D1PWbCP0tLOY",
        "colab_type": "text"
      },
      "source": [
        "\n",
        "<h3 id=\"Загрузка-и-обработка-данных\">Загрузка и обработка данных<a class=\"anchor-link\" href=\"#Загрузка-и-обработка-данных\">¶</a></h3>\n"
      ]
    },
    {
      "cell_type": "code",
      "metadata": {
        "id": "9A0ino7-tLOb",
        "colab_type": "code",
        "colab": {}
      },
      "source": [
        "feature_columns = ['ra', 'dec', 'u', 'g', 'r', 'i', 'z', 'run', 'camcol', 'field']\n",
        "target_column = 'class'\n",
        "\n",
        "target_mapping = {\n",
        "    'GALAXY': 0,\n",
        "    'STAR': 1,\n",
        "    'QSO': 2\n",
        "}"
      ],
      "execution_count": 0,
      "outputs": []
    },
    {
      "cell_type": "code",
      "metadata": {
        "id": "S6l_3iCEtLOn",
        "colab_type": "code",
        "outputId": "d002cd63-6f78-477b-8ac3-0813f3b6d0bc",
        "colab": {
          "base_uri": "https://localhost:8080/",
          "height": 95
        }
      },
      "source": [
        "data = pd.read_csv('https://drive.google.com/uc?id=1K-8CtATw6Sv7k2dXco1fL5MAhTbKtIH3')\n",
        "data['class'].value_counts()"
      ],
      "execution_count": 7,
      "outputs": [
        {
          "output_type": "execute_result",
          "data": {
            "text/plain": [
              "GALAXY    4998\n",
              "STAR      4152\n",
              "QSO        850\n",
              "Name: class, dtype: int64"
            ]
          },
          "metadata": {
            "tags": []
          },
          "execution_count": 7
        }
      ]
    },
    {
      "cell_type": "code",
      "metadata": {
        "id": "FnC8BS95tLO2",
        "colab_type": "code",
        "outputId": "73bee963-59ed-470c-8064-568ec969bea0",
        "colab": {
          "base_uri": "https://localhost:8080/",
          "height": 226
        }
      },
      "source": [
        "data.head()"
      ],
      "execution_count": 8,
      "outputs": [
        {
          "output_type": "execute_result",
          "data": {
            "text/html": [
              "<div>\n",
              "<style scoped>\n",
              "    .dataframe tbody tr th:only-of-type {\n",
              "        vertical-align: middle;\n",
              "    }\n",
              "\n",
              "    .dataframe tbody tr th {\n",
              "        vertical-align: top;\n",
              "    }\n",
              "\n",
              "    .dataframe thead th {\n",
              "        text-align: right;\n",
              "    }\n",
              "</style>\n",
              "<table border=\"1\" class=\"dataframe\">\n",
              "  <thead>\n",
              "    <tr style=\"text-align: right;\">\n",
              "      <th></th>\n",
              "      <th>objid</th>\n",
              "      <th>ra</th>\n",
              "      <th>dec</th>\n",
              "      <th>u</th>\n",
              "      <th>g</th>\n",
              "      <th>r</th>\n",
              "      <th>i</th>\n",
              "      <th>z</th>\n",
              "      <th>run</th>\n",
              "      <th>rerun</th>\n",
              "      <th>camcol</th>\n",
              "      <th>field</th>\n",
              "      <th>specobjid</th>\n",
              "      <th>class</th>\n",
              "      <th>redshift</th>\n",
              "      <th>plate</th>\n",
              "      <th>mjd</th>\n",
              "      <th>fiberid</th>\n",
              "    </tr>\n",
              "  </thead>\n",
              "  <tbody>\n",
              "    <tr>\n",
              "      <th>0</th>\n",
              "      <td>1.237650e+18</td>\n",
              "      <td>183.531326</td>\n",
              "      <td>0.089693</td>\n",
              "      <td>19.47406</td>\n",
              "      <td>17.04240</td>\n",
              "      <td>15.94699</td>\n",
              "      <td>15.50342</td>\n",
              "      <td>15.22531</td>\n",
              "      <td>752</td>\n",
              "      <td>301</td>\n",
              "      <td>4</td>\n",
              "      <td>267</td>\n",
              "      <td>3.722360e+18</td>\n",
              "      <td>STAR</td>\n",
              "      <td>-0.000009</td>\n",
              "      <td>3306</td>\n",
              "      <td>54922</td>\n",
              "      <td>491</td>\n",
              "    </tr>\n",
              "    <tr>\n",
              "      <th>1</th>\n",
              "      <td>1.237650e+18</td>\n",
              "      <td>183.598371</td>\n",
              "      <td>0.135285</td>\n",
              "      <td>18.66280</td>\n",
              "      <td>17.21449</td>\n",
              "      <td>16.67637</td>\n",
              "      <td>16.48922</td>\n",
              "      <td>16.39150</td>\n",
              "      <td>752</td>\n",
              "      <td>301</td>\n",
              "      <td>4</td>\n",
              "      <td>267</td>\n",
              "      <td>3.638140e+17</td>\n",
              "      <td>STAR</td>\n",
              "      <td>-0.000055</td>\n",
              "      <td>323</td>\n",
              "      <td>51615</td>\n",
              "      <td>541</td>\n",
              "    </tr>\n",
              "    <tr>\n",
              "      <th>2</th>\n",
              "      <td>1.237650e+18</td>\n",
              "      <td>183.680207</td>\n",
              "      <td>0.126185</td>\n",
              "      <td>19.38298</td>\n",
              "      <td>18.19169</td>\n",
              "      <td>17.47428</td>\n",
              "      <td>17.08732</td>\n",
              "      <td>16.80125</td>\n",
              "      <td>752</td>\n",
              "      <td>301</td>\n",
              "      <td>4</td>\n",
              "      <td>268</td>\n",
              "      <td>3.232740e+17</td>\n",
              "      <td>GALAXY</td>\n",
              "      <td>0.123111</td>\n",
              "      <td>287</td>\n",
              "      <td>52023</td>\n",
              "      <td>513</td>\n",
              "    </tr>\n",
              "    <tr>\n",
              "      <th>3</th>\n",
              "      <td>1.237650e+18</td>\n",
              "      <td>183.870529</td>\n",
              "      <td>0.049911</td>\n",
              "      <td>17.76536</td>\n",
              "      <td>16.60272</td>\n",
              "      <td>16.16116</td>\n",
              "      <td>15.98233</td>\n",
              "      <td>15.90438</td>\n",
              "      <td>752</td>\n",
              "      <td>301</td>\n",
              "      <td>4</td>\n",
              "      <td>269</td>\n",
              "      <td>3.722370e+18</td>\n",
              "      <td>STAR</td>\n",
              "      <td>-0.000111</td>\n",
              "      <td>3306</td>\n",
              "      <td>54922</td>\n",
              "      <td>510</td>\n",
              "    </tr>\n",
              "    <tr>\n",
              "      <th>4</th>\n",
              "      <td>1.237650e+18</td>\n",
              "      <td>183.883288</td>\n",
              "      <td>0.102557</td>\n",
              "      <td>17.55025</td>\n",
              "      <td>16.26342</td>\n",
              "      <td>16.43869</td>\n",
              "      <td>16.55492</td>\n",
              "      <td>16.61326</td>\n",
              "      <td>752</td>\n",
              "      <td>301</td>\n",
              "      <td>4</td>\n",
              "      <td>269</td>\n",
              "      <td>3.722370e+18</td>\n",
              "      <td>STAR</td>\n",
              "      <td>0.000590</td>\n",
              "      <td>3306</td>\n",
              "      <td>54922</td>\n",
              "      <td>512</td>\n",
              "    </tr>\n",
              "  </tbody>\n",
              "</table>\n",
              "</div>"
            ],
            "text/plain": [
              "          objid          ra       dec  ...  plate    mjd  fiberid\n",
              "0  1.237650e+18  183.531326  0.089693  ...   3306  54922      491\n",
              "1  1.237650e+18  183.598371  0.135285  ...    323  51615      541\n",
              "2  1.237650e+18  183.680207  0.126185  ...    287  52023      513\n",
              "3  1.237650e+18  183.870529  0.049911  ...   3306  54922      510\n",
              "4  1.237650e+18  183.883288  0.102557  ...   3306  54922      512\n",
              "\n",
              "[5 rows x 18 columns]"
            ]
          },
          "metadata": {
            "tags": []
          },
          "execution_count": 8
        }
      ]
    },
    {
      "cell_type": "code",
      "metadata": {
        "id": "TCbE1WfVtLO_",
        "colab_type": "code",
        "colab": {}
      },
      "source": [
        "# Extract Features\n",
        "X = data[feature_columns]\n",
        "# Extract target\n",
        "y = data[target_column]\n",
        "\n",
        "# encode target with target_mapping\n",
        "y = y.map(target_mapping)"
      ],
      "execution_count": 0,
      "outputs": []
    },
    {
      "cell_type": "markdown",
      "metadata": {
        "id": "NbqD45G4tLPJ",
        "colab_type": "text"
      },
      "source": [
        "\n",
        "<p>Нормализация фичей</p>\n"
      ]
    },
    {
      "cell_type": "code",
      "metadata": {
        "id": "OV6zC9XQtLPa",
        "colab_type": "code",
        "colab": {}
      },
      "source": [
        "# Просто вычтите среднее и поделитe на стандартное отклонение (с помощью пандас). Также преобразуйте всё в np.array\n",
        "X = np.array((X - X.mean()) / X.std())\n",
        "y = np.array(y)"
      ],
      "execution_count": 0,
      "outputs": []
    },
    {
      "cell_type": "code",
      "metadata": {
        "id": "fEs-m7kTtLPn",
        "colab_type": "code",
        "outputId": "780ba8ab-a6d4-49f9-9c36-d284e58c59cc",
        "colab": {
          "base_uri": "https://localhost:8080/",
          "height": 240
        }
      },
      "source": [
        "assert type(X) == np.ndarray and type(y) == np.ndarray, 'Проверьте, что получившиеся массивы являются np.ndarray'\n",
        "assert np.allclose(y[:5], [1,1,0,1,1])\n",
        "assert X.shape == (10000, 10)\n",
        "assert np.allclose(X.mean(axis=0), np.zeros(10)) and np.allclose(X.std(axis=0), np.ones(10)), 'Данные не отнормированы'"
      ],
      "execution_count": 11,
      "outputs": [
        {
          "output_type": "error",
          "ename": "AssertionError",
          "evalue": "ignored",
          "traceback": [
            "\u001b[0;31m---------------------------------------------------------------------------\u001b[0m",
            "\u001b[0;31mAssertionError\u001b[0m                            Traceback (most recent call last)",
            "\u001b[0;32m<ipython-input-11-3bbab44da409>\u001b[0m in \u001b[0;36m<module>\u001b[0;34m()\u001b[0m\n\u001b[1;32m      2\u001b[0m \u001b[0;32massert\u001b[0m \u001b[0mnp\u001b[0m\u001b[0;34m.\u001b[0m\u001b[0mallclose\u001b[0m\u001b[0;34m(\u001b[0m\u001b[0my\u001b[0m\u001b[0;34m[\u001b[0m\u001b[0;34m:\u001b[0m\u001b[0;36m5\u001b[0m\u001b[0;34m]\u001b[0m\u001b[0;34m,\u001b[0m \u001b[0;34m[\u001b[0m\u001b[0;36m1\u001b[0m\u001b[0;34m,\u001b[0m\u001b[0;36m1\u001b[0m\u001b[0;34m,\u001b[0m\u001b[0;36m0\u001b[0m\u001b[0;34m,\u001b[0m\u001b[0;36m1\u001b[0m\u001b[0;34m,\u001b[0m\u001b[0;36m1\u001b[0m\u001b[0;34m]\u001b[0m\u001b[0;34m)\u001b[0m\u001b[0;34m\u001b[0m\u001b[0;34m\u001b[0m\u001b[0m\n\u001b[1;32m      3\u001b[0m \u001b[0;32massert\u001b[0m \u001b[0mX\u001b[0m\u001b[0;34m.\u001b[0m\u001b[0mshape\u001b[0m \u001b[0;34m==\u001b[0m \u001b[0;34m(\u001b[0m\u001b[0;36m10000\u001b[0m\u001b[0;34m,\u001b[0m \u001b[0;36m10\u001b[0m\u001b[0;34m)\u001b[0m\u001b[0;34m\u001b[0m\u001b[0;34m\u001b[0m\u001b[0m\n\u001b[0;32m----> 4\u001b[0;31m \u001b[0;32massert\u001b[0m \u001b[0mnp\u001b[0m\u001b[0;34m.\u001b[0m\u001b[0mallclose\u001b[0m\u001b[0;34m(\u001b[0m\u001b[0mX\u001b[0m\u001b[0;34m.\u001b[0m\u001b[0mmean\u001b[0m\u001b[0;34m(\u001b[0m\u001b[0maxis\u001b[0m\u001b[0;34m=\u001b[0m\u001b[0;36m0\u001b[0m\u001b[0;34m)\u001b[0m\u001b[0;34m,\u001b[0m \u001b[0mnp\u001b[0m\u001b[0;34m.\u001b[0m\u001b[0mzeros\u001b[0m\u001b[0;34m(\u001b[0m\u001b[0;36m10\u001b[0m\u001b[0;34m)\u001b[0m\u001b[0;34m)\u001b[0m \u001b[0;32mand\u001b[0m \u001b[0mnp\u001b[0m\u001b[0;34m.\u001b[0m\u001b[0mallclose\u001b[0m\u001b[0;34m(\u001b[0m\u001b[0mX\u001b[0m\u001b[0;34m.\u001b[0m\u001b[0mstd\u001b[0m\u001b[0;34m(\u001b[0m\u001b[0maxis\u001b[0m\u001b[0;34m=\u001b[0m\u001b[0;36m0\u001b[0m\u001b[0;34m)\u001b[0m\u001b[0;34m,\u001b[0m \u001b[0mnp\u001b[0m\u001b[0;34m.\u001b[0m\u001b[0mones\u001b[0m\u001b[0;34m(\u001b[0m\u001b[0;36m10\u001b[0m\u001b[0;34m)\u001b[0m\u001b[0;34m)\u001b[0m\u001b[0;34m,\u001b[0m \u001b[0;34m'Данные не отнормированы'\u001b[0m\u001b[0;34m\u001b[0m\u001b[0;34m\u001b[0m\u001b[0m\n\u001b[0m",
            "\u001b[0;31mAssertionError\u001b[0m: Данные не отнормированы"
          ]
        }
      ]
    },
    {
      "cell_type": "code",
      "metadata": {
        "id": "Nqj0etKwt958",
        "colab_type": "code",
        "outputId": "1d73f013-e42a-4662-ef52-4820b2e6628c",
        "colab": {
          "base_uri": "https://localhost:8080/",
          "height": 75
        }
      },
      "source": [
        "X.mean(axis=0)"
      ],
      "execution_count": 12,
      "outputs": [
        {
          "output_type": "execute_result",
          "data": {
            "text/plain": [
              "array([ 2.52896371e-14, -1.19371180e-15,  5.57683677e-14,  1.00174447e-13,\n",
              "        3.00090619e-14,  2.21604068e-14, -4.10935286e-14,  0.00000000e+00,\n",
              "        6.25277607e-17, -1.67688086e-16])"
            ]
          },
          "metadata": {
            "tags": []
          },
          "execution_count": 12
        }
      ]
    },
    {
      "cell_type": "markdown",
      "metadata": {
        "id": "t5R9Gm0-uC_J",
        "colab_type": "text"
      },
      "source": [
        "# ^ Значения очень маленькие, но почему-то не проходят тест ^"
      ]
    },
    {
      "cell_type": "markdown",
      "metadata": {
        "id": "UmCkrER2tLP3",
        "colab_type": "text"
      },
      "source": [
        "\n",
        "<p>Обучение</p>\n"
      ]
    },
    {
      "cell_type": "code",
      "metadata": {
        "id": "bjuSPdHftLP5",
        "colab_type": "code",
        "colab": {}
      },
      "source": [
        "# Split train/test\n",
        "X_train, X_test, y_train, y_test = train_test_split(X, y, random_state=42)\n",
        "# Превратим данные в тензоры, чтобы потом было удобнее\n",
        "X_train = torch.FloatTensor(X_train)\n",
        "y_train = torch.LongTensor(y_train)\n",
        "X_test = torch.FloatTensor(X_test)\n",
        "y_test = torch.LongTensor(y_test)"
      ],
      "execution_count": 0,
      "outputs": []
    },
    {
      "cell_type": "markdown",
      "metadata": {
        "id": "kzxPiQIItLQM",
        "colab_type": "text"
      },
      "source": [
        "\n",
        "<p>Хорошо, данные мы подготовили, теперь надо объявить модель</p>\n"
      ]
    },
    {
      "cell_type": "markdown",
      "metadata": {
        "id": "Hbz6ZCWdtLQN",
        "colab_type": "text"
      },
      "source": [
        "<p>Архитектура:</p>\n",
        "<ol>\n",
        "<li>Dense Layer с relu активацией и 50 нейронами</li>\n",
        "<li>Dropout 80% (если другой keep rate дает сходимость лучше, то можно изменить) (попробуйте 50%) </li>\n",
        "<li>BatchNorm</li>\n",
        "<li>Dense Layer с relu активацией и 100 нейронами</li>\n",
        "<li>Dropout 80% (если другой keep rate дает сходимость лучше, то можно изменить) (попробуйте для разнообразия 50%)</li>\n",
        "<li>BatchNorm</li>\n",
        "<li>Выходной Dense слой c количеством нейронов, равному количеству классов</li>\n",
        "</ol>\n",
        "<p>Лосс - CrossEntropy.</p>\n"
      ]
    },
    {
      "cell_type": "code",
      "metadata": {
        "id": "xCFQ2eHJtLQP",
        "colab_type": "code",
        "colab": {}
      },
      "source": [
        "def new_model(dropout_p=0.5, model_lr=1e-3, weight_decay=1e-4):\n",
        "    torch.manual_seed(42) \n",
        "    np.random.seed(42)\n",
        "    model = nn.Sequential(\n",
        "\n",
        "        nn.Linear(in_features=X_train.shape[1], out_features=50), \n",
        "        nn.ReLU(), \n",
        "        nn.Dropout(p=dropout_p), \n",
        "        nn.BatchNorm1d(num_features=50), \n",
        "\n",
        "        nn.Linear(in_features=50, out_features=100), \n",
        "        nn.ReLU(), \n",
        "        nn.Dropout(p=dropout_p), \n",
        "        nn.BatchNorm1d(num_features=100), \n",
        "\n",
        "        nn.Linear(in_features=100, out_features=len(y_train.unique()))\n",
        "\n",
        "    )\n",
        "\n",
        "    loss_fn = nn.CrossEntropyLoss()\n",
        "    optimizer = torch.optim.Adam(params=model.parameters(), lr=model_lr, weight_decay=weight_decay)\n",
        "    \n",
        "    return model, optimizer, loss_fn"
      ],
      "execution_count": 0,
      "outputs": []
    },
    {
      "cell_type": "code",
      "metadata": {
        "id": "o1CvHCSntLQY",
        "colab_type": "code",
        "colab": {}
      },
      "source": [
        "model, optimizer, loss_fn = new_model(dropout_p=0.8, model_lr=1e-3, weight_decay=1e-4)\n",
        "\n",
        "model = model.to(device)\n",
        "X_test = X_test.to(device)\n",
        "y_test = y_test.to(device)"
      ],
      "execution_count": 0,
      "outputs": []
    },
    {
      "cell_type": "markdown",
      "metadata": {
        "id": "EtHpp6AWtLQk",
        "colab_type": "text"
      },
      "source": [
        "\n",
        "<h3 id=\"Обучающий-цикл\">Обучающий цикл<a class=\"anchor-link\" href=\"#Обучающий-цикл\">¶</a></h3>\n"
      ]
    },
    {
      "cell_type": "code",
      "metadata": {
        "id": "sCC2sXA7tLQm",
        "colab_type": "code",
        "colab": {}
      },
      "source": [
        "def train(X_train, y_train, X_test, y_test, num_epoch):\n",
        "    train_losses = []\n",
        "    test_losses = []\n",
        "    for i in range(num_epoch):\n",
        "        epoch_train_losses = []\n",
        "        for X_batch, y_batch in batch_generator(X_train, y_train, 500):\n",
        "            X_batch = X_batch.to(device)\n",
        "            y_batch = y_batch.to(device)\n",
        "            # На лекции мы рассказывали, что дропаут работает по-разному во время обучения и реального предсказания\n",
        "            # Чтобы это учесть нам нужно включать и выключать режим обучения, делается это командой ниже\n",
        "            model.train()\n",
        "            # Посчитаем предсказание и лосс\n",
        "            preds = model.forward(X_batch)\n",
        "            loss = loss_fn(preds, y_batch)\n",
        "            \n",
        "            # зануляем градиент\n",
        "            optimizer.zero_grad()\n",
        "            \n",
        "            # backward\n",
        "            loss.backward()\n",
        "            \n",
        "            # ОБНОВЛЯЕМ веса\n",
        "            optimizer.step()\n",
        "            \n",
        "            # Запишем число (не тензор) в наши батчевые лоссы\n",
        "            epoch_train_losses.append(loss.item())        \n",
        "        train_losses.append(np.mean(epoch_train_losses))\n",
        "        \n",
        "        # Теперь посчитаем лосс на тесте\n",
        "        model.eval()\n",
        "        with torch.no_grad():\n",
        "            # Сюда опять же надо положить именно число равное лоссу на всем тест датасете\n",
        "            test_losses.append(loss_fn(model.forward(X_test), y_test))\n",
        "        \n",
        "        if i % 100 == 0:\n",
        "            print(f\"epoch #{i} | test_loss: {test_losses[-1]}\")\n",
        "            \n",
        "    return train_losses, test_losses\n",
        "\n"
      ],
      "execution_count": 0,
      "outputs": []
    },
    {
      "cell_type": "code",
      "metadata": {
        "id": "cKndmVXVtLQu",
        "colab_type": "code",
        "colab": {}
      },
      "source": [
        "def check_loss_decreased():\n",
        "    print(\"На графике сверху, точно есть сходимость? Точно-точно? [Да/Нет]\")\n",
        "    s = input()\n",
        "    if s.lower() == 'да':\n",
        "        print(\"Хорошо!\")\n",
        "    else:\n",
        "        raise RuntimeError(\"Можно уменьшить дропаут, уменьшить lr, поправить архитектуру, etc\")"
      ],
      "execution_count": 0,
      "outputs": []
    },
    {
      "cell_type": "code",
      "metadata": {
        "id": "UzrejjjhtLQ5",
        "colab_type": "code",
        "outputId": "115ba100-6421-449e-b0d3-09c07f1be4ec",
        "colab": {
          "base_uri": "https://localhost:8080/",
          "height": 518
        }
      },
      "source": [
        "train_losses, test_losses = train(X_train, y_train, X_test, y_test, 1000)\n",
        "plt.plot(range(len(train_losses)), train_losses, label='train')\n",
        "plt.plot(range(len(test_losses)), test_losses, label='test')\n",
        "plt.legend()\n",
        "plt.show()\n",
        "    \n",
        "check_loss_decreased()\n",
        "assert train_losses[-1] < 0.3 and test_losses[-1] < 0.3"
      ],
      "execution_count": 18,
      "outputs": [
        {
          "output_type": "stream",
          "text": [
            "epoch #0 | test_loss: 1.0420386791229248\n",
            "epoch #100 | test_loss: 0.25885164737701416\n",
            "epoch #200 | test_loss: 0.21205385029315948\n",
            "epoch #300 | test_loss: 0.1987387090921402\n",
            "epoch #400 | test_loss: 0.19250355660915375\n",
            "epoch #500 | test_loss: 0.18226446211338043\n",
            "epoch #600 | test_loss: 0.1806555539369583\n",
            "epoch #700 | test_loss: 0.17997930943965912\n",
            "epoch #800 | test_loss: 0.1755630522966385\n",
            "epoch #900 | test_loss: 0.176832914352417\n"
          ],
          "name": "stdout"
        },
        {
          "output_type": "display_data",
          "data": {
            "image/png": "[encoded data removed]",
            "text/plain": [
              "<Figure size 432x288 with 1 Axes>"
            ]
          },
          "metadata": {
            "tags": [],
            "needs_background": "light"
          }
        },
        {
          "output_type": "stream",
          "text": [
            "На графике сверху, точно есть сходимость? Точно-точно? [Да/Нет]\n",
            "да\n",
            "Хорошо!\n"
          ],
          "name": "stdout"
        }
      ]
    },
    {
      "cell_type": "markdown",
      "metadata": {
        "id": "fNel-C1atLRB",
        "colab_type": "text"
      },
      "source": [
        "\n",
        "<h3 id=\"Вычислите-accuracy-получившейся-модели-на-train-и-test\">Вычислите accuracy получившейся модели на train и test<a class=\"anchor-link\" href=\"#Вычислите-accuracy-получившейся-модели-на-train-и-test\">¶</a></h3>\n"
      ]
    },
    {
      "cell_type": "code",
      "metadata": {
        "id": "GSluPk0TvyaC",
        "colab_type": "code",
        "colab": {}
      },
      "source": [
        "X_train = X_train.to(device)\n",
        "y_train = y_train.to(device)"
      ],
      "execution_count": 0,
      "outputs": []
    },
    {
      "cell_type": "code",
      "metadata": {
        "id": "w0Xci6fjtLRD",
        "colab_type": "code",
        "outputId": "e27f85ce-892a-478c-a66f-26e70bfe0f3f",
        "colab": {
          "base_uri": "https://localhost:8080/",
          "height": 56
        }
      },
      "source": [
        "from sklearn.metrics import accuracy_score\n",
        "\n",
        "model.eval()\n",
        "train_pred_labels = model.forward(X_train).argmax(dim=1)\n",
        "test_pred_labels = model.forward(X_test).argmax(dim=1)\n",
        "\n",
        "train_acc = accuracy_score(y_train.cpu(), train_pred_labels.cpu())\n",
        "test_acc = accuracy_score(y_test.cpu(), test_pred_labels.cpu())\n",
        "\n",
        "assert train_acc > 0.9, \"Если уж классифицировать звезды, которые уже видел, то не хуже, чем в 90% случаев\"\n",
        "assert test_acc > 0.9, \"Новые звезды тоже надо классифицировать хотя бы в 90% случаев\"\n",
        "\n",
        "print(\"Train accuracy: {}\\nTest accuracy: {}\".format(train_acc, test_acc))"
      ],
      "execution_count": 20,
      "outputs": [
        {
          "output_type": "stream",
          "text": [
            "Train accuracy: 0.9588\n",
            "Test accuracy: 0.9512\n"
          ],
          "name": "stdout"
        }
      ]
    },
    {
      "cell_type": "markdown",
      "metadata": {
        "id": "Mw4Oy1yOtLRL",
        "colab_type": "text"
      },
      "source": [
        "\n",
        "<h1 id=\"Задание-3.-Исправление-ошибок-в-архитектуре\">Задание 3. Исправление ошибок в архитектуре<a class=\"anchor-link\" href=\"#Задание-3.-Исправление-ошибок-в-архитектуре\">¶</a></h1><p>Только что вы обучили полносвязную нейронную сеть. Теперь вам предстоит проанализировать архитектуру нейронной сети ниже, исправить в ней ошибки и  обучить её с помощью той же функции train. Пример исправления ошибок есть в семинаре Григория Лелейтнера.</p>\n",
        "<p>Будьте осторожнее и убедитесь, что перед запуском train вы вновь переопределили все необходимые внешние переменные (train обращается к глобальным переменным, в целом так делать не стоит, но сейчас это было оправдано, так как иначе нам пришлось бы передавать порядка 7-8 аргументов).</p>\n",
        "<p>Чтобы у вас получилась такая же архитектура, как у нас, и ответы совпали, давайте определим некоторые правила, как исправлять ошибки:</p>\n",
        "<ol>\n",
        "<li>Если вы видите лишний нелинейный слой, который стоит не на своем месте, просто удалите его. (не нужно добавлять новые слои, чтобы сделать постановку изначального слоя разумной. Удалять надо самый последний слой, который все портит. Для линейных слоев надо что-то исправить, а не удалить его)</li>\n",
        "<li>Если у слоя нет активации, то добавьте ReLU или другую подходящую активацию</li>\n",
        "<li>Если что-то не так с learning_rate, то поставьте 1e-2</li>\n",
        "<li>Если что-то не так с параметрами, считайте первый параметр, который появляется, как верный (т.е. далее в сети должен использоваться он).</li>\n",
        "<li>Ошибки могут быть и в полносвязных слоях. </li>\n",
        "<li>Любые другие проблемы решаются более менее однозначно, если же у вас есть серьезные сомнения, то напишите в беседу в телеграме и пинганите меня @AlexPak</li>\n",
        "</ol>\n"
      ]
    },
    {
      "cell_type": "markdown",
      "metadata": {
        "id": "leMaUOlQtLRM",
        "colab_type": "text"
      },
      "source": [
        "\n",
        "<p>Задача все та же - классификация небесных объектов на том же датасете. После исправления сети вам нужно обучить ее.</p>\n",
        "<p><strong>Ответ на задачу - средний лосс на тестовом датасете</strong></p>\n"
      ]
    },
    {
      "cell_type": "code",
      "metadata": {
        "id": "mrgNvh0_tLRN",
        "colab_type": "code",
        "colab": {}
      },
      "source": [
        "torch.manual_seed(42)   \n",
        "np.random.seed(42)\n",
        "# WRONG ARCH\n",
        "model = nn.Sequential(\n",
        "    nn.Dropout(p=0.5),\n",
        "    nn.Linear(6, 50),\n",
        "    nn.ReLU(),\n",
        "    nn.Dropout(p=0.5),\n",
        "    nn.Linear(100, 200),\n",
        "    nn.Softmax(),\n",
        "    nn.Linear(200, 200),\n",
        "    nn.ReLU(),\n",
        "    nn.Dropout(p=0.5),\n",
        "    nn.Linear(200, 3),\n",
        "    nn.Dropout(p=0.5)\n",
        ")\n",
        "\n",
        "\n",
        "loss_fn = nn.CrossEntropyLoss()\n",
        "optimizer = torch.optim.Adam(model.parameters[:-2], lr=1e-100)\n",
        "\n"
      ],
      "execution_count": 0,
      "outputs": []
    },
    {
      "cell_type": "code",
      "metadata": {
        "id": "-qt5P3SHtLRZ",
        "colab_type": "code",
        "colab": {}
      },
      "source": [
        "# RIGHT ARCH\n",
        "torch.manual_seed(42)   \n",
        "np.random.seed(42)\n",
        "model = nn.Sequential(\n",
        "    nn.Linear(in_features=X_train.shape[1], out_features=50), \n",
        "    nn.ReLU(), \n",
        "    nn.Dropout(p=0.4), \n",
        "\n",
        "    nn.Linear(in_features=50, out_features=200), \n",
        "    nn.ReLU(), \n",
        "    nn.Dropout(p=0.4), \n",
        "\n",
        "    nn.Linear(in_features=200, out_features=200), \n",
        "    nn.ReLU(), \n",
        "    nn.Dropout(p=0.4), \n",
        "\n",
        "    nn.Linear(in_features=200, out_features=len(y_train.unique()))\n",
        ").to(device)\n",
        "\n",
        "loss_fn = nn.CrossEntropyLoss()\n",
        "optimizer = torch.optim.Adam(model.parameters(), lr=1e-3, weight_decay=1e-4)"
      ],
      "execution_count": 0,
      "outputs": []
    },
    {
      "cell_type": "markdown",
      "metadata": {
        "id": "G7mXVUS5tLRh",
        "colab_type": "text"
      },
      "source": [
        "\n",
        "<h3 id=\"Обучите-и-протестируйте-модель-так-же,-как-вы-это-сделали-в-задаче-2.-Вычислите-accuracy.\">Обучите и протестируйте модель так же, как вы это сделали в задаче 2. Вычислите accuracy.<a class=\"anchor-link\" href=\"#Обучите-и-протестируйте-модель-так-же,-как-вы-это-сделали-в-задаче-2.-Вычислите-accuracy.\">¶</a></h3>\n"
      ]
    },
    {
      "cell_type": "code",
      "metadata": {
        "id": "mN21Freiz8tP",
        "colab_type": "code",
        "colab": {
          "base_uri": "https://localhost:8080/",
          "height": 422
        },
        "outputId": "898f77cf-e63f-4fa5-a686-d5f7b3b86c56"
      },
      "source": [
        "train_losses, test_losses = train(X_train, y_train, X_test, y_test, 500)\n",
        "plt.plot(range(len(train_losses)), train_losses, label='train')\n",
        "plt.plot(range(len(test_losses)), test_losses, label='test')\n",
        "plt.legend()\n",
        "plt.show()\n",
        "    \n",
        "check_loss_decreased()\n",
        "assert train_losses[-1] < 0.3 and test_losses[-1] < 0.3"
      ],
      "execution_count": 22,
      "outputs": [
        {
          "output_type": "stream",
          "text": [
            "epoch #0 | test_loss: 0.87960284948349\n",
            "epoch #100 | test_loss: 0.15944872796535492\n",
            "epoch #200 | test_loss: 0.11121976375579834\n",
            "epoch #300 | test_loss: 0.10677890479564667\n",
            "epoch #400 | test_loss: 0.11183541268110275\n"
          ],
          "name": "stdout"
        },
        {
          "output_type": "display_data",
          "data": {
            "image/png": "[encoded data removed]",
            "text/plain": [
              "<Figure size 432x288 with 1 Axes>"
            ]
          },
          "metadata": {
            "tags": [],
            "needs_background": "light"
          }
        },
        {
          "output_type": "stream",
          "text": [
            "На графике сверху, точно есть сходимость? Точно-точно? [Да/Нет]\n",
            "да\n",
            "Хорошо!\n"
          ],
          "name": "stdout"
        }
      ]
    },
    {
      "cell_type": "code",
      "metadata": {
        "id": "0OjqplAjtLRi",
        "colab_type": "code",
        "colab": {
          "base_uri": "https://localhost:8080/",
          "height": 56
        },
        "outputId": "ef84ddef-2cde-45fb-bee8-ac3a08cbcbd0"
      },
      "source": [
        "#YOUR CODE\n",
        "model.eval()\n",
        "train_pred_labels = model.forward(X_train).argmax(dim=1)\n",
        "test_pred_labels = model.forward(X_test).argmax(dim=1)\n",
        "\n",
        "train_acc = accuracy_score(y_train.cpu(), train_pred_labels.cpu())\n",
        "test_acc = accuracy_score(y_test.cpu(), test_pred_labels.cpu())\n",
        "\n",
        "assert train_acc > 0.9, \"Если уж классифицировать звезды, которые уже видел, то не хуже, чем в 90% случаев\"\n",
        "assert test_acc > 0.9, \"Новые звезды тоже надо классифицировать хотя бы в 90% случаев\"\n",
        "\n",
        "print(\"Train accuracy: {}\\nTest accuracy: {}\".format(train_acc, test_acc))"
      ],
      "execution_count": 23,
      "outputs": [
        {
          "output_type": "stream",
          "text": [
            "Train accuracy: 0.9750666666666666\n",
            "Test accuracy: 0.9684\n"
          ],
          "name": "stdout"
        }
      ]
    },
    {
      "cell_type": "markdown",
      "metadata": {
        "id": "JqzAlIZLtLRs",
        "colab_type": "text"
      },
      "source": [
        "\n",
        "<h2 id=\"Задание-4.-Сделайте-выводы\">Задание 4. Сделайте выводы<a class=\"anchor-link\" href=\"#Задание-4.-Сделайте-выводы\">¶</a></h2><p>Начиная с какого количества блоков минимальный лосс за время обучения увеличивается? Почему лишнее количество блоков не помогает модели?</p>\n"
      ]
    },
    {
      "cell_type": "code",
      "metadata": {
        "id": "9I0XFTPHtLRu",
        "colab_type": "code",
        "colab": {}
      },
      "source": [
        ""
      ],
      "execution_count": 0,
      "outputs": []
    }
  ]
}