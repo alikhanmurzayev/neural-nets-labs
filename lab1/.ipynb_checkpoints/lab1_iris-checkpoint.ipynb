{
 "cells": [
  {
   "cell_type": "code",
   "execution_count": 1,
   "metadata": {},
   "outputs": [],
   "source": [
    "import warnings\n",
    "warnings.filterwarnings('ignore')"
   ]
  },
  {
   "cell_type": "code",
   "execution_count": 2,
   "metadata": {},
   "outputs": [],
   "source": [
    "import numpy as np\n",
    "import pandas as pd\n",
    "from sklearn.datasets import load_iris\n",
    "from sklearn.metrics import accuracy_score"
   ]
  },
  {
   "cell_type": "code",
   "execution_count": 3,
   "metadata": {},
   "outputs": [],
   "source": [
    "import xgboost as xgb"
   ]
  },
  {
   "cell_type": "code",
   "execution_count": 4,
   "metadata": {},
   "outputs": [],
   "source": [
    "import lightgbm as lgb"
   ]
  },
  {
   "cell_type": "code",
   "execution_count": 6,
   "metadata": {},
   "outputs": [],
   "source": [
    "from sklearn.ensemble import RandomForestClassifier"
   ]
  },
  {
   "cell_type": "code",
   "execution_count": 5,
   "metadata": {},
   "outputs": [
    {
     "ename": "ModuleNotFoundError",
     "evalue": "No module named 'autogluon'",
     "output_type": "error",
     "traceback": [
      "\u001b[0;31m---------------------------------------------------------------------------\u001b[0m",
      "\u001b[0;31mModuleNotFoundError\u001b[0m                       Traceback (most recent call last)",
      "\u001b[0;32m<ipython-input-5-7c3e89233e1b>\u001b[0m in \u001b[0;36m<module>\u001b[0;34m\u001b[0m\n\u001b[1;32m      1\u001b[0m \u001b[0;32mfrom\u001b[0m \u001b[0msklearn\u001b[0m\u001b[0;34m.\u001b[0m\u001b[0mensemble\u001b[0m \u001b[0;32mimport\u001b[0m \u001b[0mRandomForestClassifier\u001b[0m\u001b[0;34m\u001b[0m\u001b[0;34m\u001b[0m\u001b[0m\n\u001b[0;32m----> 2\u001b[0;31m \u001b[0;32mfrom\u001b[0m \u001b[0mautogluon\u001b[0m \u001b[0;32mimport\u001b[0m \u001b[0mTabularPrediction\u001b[0m \u001b[0;32mas\u001b[0m \u001b[0mtask\u001b[0m\u001b[0;34m\u001b[0m\u001b[0;34m\u001b[0m\u001b[0m\n\u001b[0m",
      "\u001b[0;31mModuleNotFoundError\u001b[0m: No module named 'autogluon'"
     ]
    }
   ],
   "source": [
    "from autogluon import TabularPrediction as task"
   ]
  },
  {
   "cell_type": "code",
   "execution_count": 7,
   "metadata": {},
   "outputs": [],
   "source": [
    "import seaborn as sns\n",
    "from matplotlib import pyplot as plt\n",
    "%matplotlib inline"
   ]
  },
  {
   "cell_type": "code",
   "execution_count": 8,
   "metadata": {},
   "outputs": [],
   "source": [
    "from sklearn.model_selection import train_test_split, KFold, GridSearchCV\n",
    "from sklearn.pipeline import Pipeline\n",
    "from sklearn.preprocessing import StandardScaler\n",
    "from sklearn.metrics import accuracy_score"
   ]
  },
  {
   "cell_type": "markdown",
   "metadata": {},
   "source": [
    "# Load data and construct DataFrame"
   ]
  },
  {
   "cell_type": "code",
   "execution_count": 9,
   "metadata": {},
   "outputs": [],
   "source": [
    "iris = load_iris()"
   ]
  },
  {
   "cell_type": "code",
   "execution_count": 10,
   "metadata": {},
   "outputs": [
    {
     "data": {
      "text/html": [
       "<div>\n",
       "<style scoped>\n",
       "    .dataframe tbody tr th:only-of-type {\n",
       "        vertical-align: middle;\n",
       "    }\n",
       "\n",
       "    .dataframe tbody tr th {\n",
       "        vertical-align: top;\n",
       "    }\n",
       "\n",
       "    .dataframe thead th {\n",
       "        text-align: right;\n",
       "    }\n",
       "</style>\n",
       "<table border=\"1\" class=\"dataframe\">\n",
       "  <thead>\n",
       "    <tr style=\"text-align: right;\">\n",
       "      <th></th>\n",
       "      <th>sepal length (cm)</th>\n",
       "      <th>sepal width (cm)</th>\n",
       "      <th>petal length (cm)</th>\n",
       "      <th>petal width (cm)</th>\n",
       "      <th>class</th>\n",
       "    </tr>\n",
       "  </thead>\n",
       "  <tbody>\n",
       "    <tr>\n",
       "      <td>0</td>\n",
       "      <td>5.1</td>\n",
       "      <td>3.5</td>\n",
       "      <td>1.4</td>\n",
       "      <td>0.2</td>\n",
       "      <td>setosa</td>\n",
       "    </tr>\n",
       "    <tr>\n",
       "      <td>1</td>\n",
       "      <td>4.9</td>\n",
       "      <td>3.0</td>\n",
       "      <td>1.4</td>\n",
       "      <td>0.2</td>\n",
       "      <td>setosa</td>\n",
       "    </tr>\n",
       "    <tr>\n",
       "      <td>2</td>\n",
       "      <td>4.7</td>\n",
       "      <td>3.2</td>\n",
       "      <td>1.3</td>\n",
       "      <td>0.2</td>\n",
       "      <td>setosa</td>\n",
       "    </tr>\n",
       "    <tr>\n",
       "      <td>3</td>\n",
       "      <td>4.6</td>\n",
       "      <td>3.1</td>\n",
       "      <td>1.5</td>\n",
       "      <td>0.2</td>\n",
       "      <td>setosa</td>\n",
       "    </tr>\n",
       "    <tr>\n",
       "      <td>4</td>\n",
       "      <td>5.0</td>\n",
       "      <td>3.6</td>\n",
       "      <td>1.4</td>\n",
       "      <td>0.2</td>\n",
       "      <td>setosa</td>\n",
       "    </tr>\n",
       "  </tbody>\n",
       "</table>\n",
       "</div>"
      ],
      "text/plain": [
       "   sepal length (cm)  sepal width (cm)  petal length (cm)  petal width (cm)  \\\n",
       "0                5.1               3.5                1.4               0.2   \n",
       "1                4.9               3.0                1.4               0.2   \n",
       "2                4.7               3.2                1.3               0.2   \n",
       "3                4.6               3.1                1.5               0.2   \n",
       "4                5.0               3.6                1.4               0.2   \n",
       "\n",
       "    class  \n",
       "0  setosa  \n",
       "1  setosa  \n",
       "2  setosa  \n",
       "3  setosa  \n",
       "4  setosa  "
      ]
     },
     "execution_count": 10,
     "metadata": {},
     "output_type": "execute_result"
    }
   ],
   "source": [
    "data = pd.DataFrame(data=np.hstack((iris['data'], iris['target'].reshape(-1, 1))), \n",
    "                    columns=list(iris['feature_names']) + ['class'])\n",
    "data['class'] = data['class'].astype(int)\n",
    "data['class'] = data['class'].apply(lambda x: iris['target_names'][x])\n",
    "\n",
    "data.head()"
   ]
  },
  {
   "cell_type": "code",
   "execution_count": 16,
   "metadata": {},
   "outputs": [
    {
     "name": "stdout",
     "output_type": "stream",
     "text": [
      "mean: 3.7580000000000027\n",
      "variance: 1.3286452623855123\n"
     ]
    }
   ],
   "source": [
    "print(\"mean:\", data[\"petal length (cm)\"].mean())\n",
    "print(\"variance:\", data[\"petal length (cm)\"].std() ** 0.5)"
   ]
  },
  {
   "cell_type": "code",
   "execution_count": 8,
   "metadata": {},
   "outputs": [
    {
     "data": {
      "text/plain": [
       "sepal length (cm)    float64\n",
       "sepal width (cm)     float64\n",
       "petal length (cm)    float64\n",
       "petal width (cm)     float64\n",
       "class                 object\n",
       "dtype: object"
      ]
     },
     "execution_count": 8,
     "metadata": {},
     "output_type": "execute_result"
    }
   ],
   "source": [
    "data.dtypes"
   ]
  },
  {
   "cell_type": "code",
   "execution_count": 9,
   "metadata": {},
   "outputs": [
    {
     "name": "stdout",
     "output_type": "stream",
     "text": [
      "<class 'pandas.core.frame.DataFrame'>\n",
      "RangeIndex: 150 entries, 0 to 149\n",
      "Data columns (total 5 columns):\n",
      "sepal length (cm)    150 non-null float64\n",
      "sepal width (cm)     150 non-null float64\n",
      "petal length (cm)    150 non-null float64\n",
      "petal width (cm)     150 non-null float64\n",
      "class                150 non-null object\n",
      "dtypes: float64(4), object(1)\n",
      "memory usage: 5.9+ KB\n"
     ]
    }
   ],
   "source": [
    "data.info()"
   ]
  },
  {
   "cell_type": "code",
   "execution_count": 10,
   "metadata": {},
   "outputs": [
    {
     "data": {
      "text/html": [
       "<div>\n",
       "<style scoped>\n",
       "    .dataframe tbody tr th:only-of-type {\n",
       "        vertical-align: middle;\n",
       "    }\n",
       "\n",
       "    .dataframe tbody tr th {\n",
       "        vertical-align: top;\n",
       "    }\n",
       "\n",
       "    .dataframe thead th {\n",
       "        text-align: right;\n",
       "    }\n",
       "</style>\n",
       "<table border=\"1\" class=\"dataframe\">\n",
       "  <thead>\n",
       "    <tr style=\"text-align: right;\">\n",
       "      <th></th>\n",
       "      <th>sepal length (cm)</th>\n",
       "      <th>sepal width (cm)</th>\n",
       "      <th>petal length (cm)</th>\n",
       "      <th>petal width (cm)</th>\n",
       "    </tr>\n",
       "  </thead>\n",
       "  <tbody>\n",
       "    <tr>\n",
       "      <th>count</th>\n",
       "      <td>150.000000</td>\n",
       "      <td>150.000000</td>\n",
       "      <td>150.000000</td>\n",
       "      <td>150.000000</td>\n",
       "    </tr>\n",
       "    <tr>\n",
       "      <th>mean</th>\n",
       "      <td>5.843333</td>\n",
       "      <td>3.057333</td>\n",
       "      <td>3.758000</td>\n",
       "      <td>1.199333</td>\n",
       "    </tr>\n",
       "    <tr>\n",
       "      <th>std</th>\n",
       "      <td>0.828066</td>\n",
       "      <td>0.435866</td>\n",
       "      <td>1.765298</td>\n",
       "      <td>0.762238</td>\n",
       "    </tr>\n",
       "    <tr>\n",
       "      <th>min</th>\n",
       "      <td>4.300000</td>\n",
       "      <td>2.000000</td>\n",
       "      <td>1.000000</td>\n",
       "      <td>0.100000</td>\n",
       "    </tr>\n",
       "    <tr>\n",
       "      <th>25%</th>\n",
       "      <td>5.100000</td>\n",
       "      <td>2.800000</td>\n",
       "      <td>1.600000</td>\n",
       "      <td>0.300000</td>\n",
       "    </tr>\n",
       "    <tr>\n",
       "      <th>50%</th>\n",
       "      <td>5.800000</td>\n",
       "      <td>3.000000</td>\n",
       "      <td>4.350000</td>\n",
       "      <td>1.300000</td>\n",
       "    </tr>\n",
       "    <tr>\n",
       "      <th>75%</th>\n",
       "      <td>6.400000</td>\n",
       "      <td>3.300000</td>\n",
       "      <td>5.100000</td>\n",
       "      <td>1.800000</td>\n",
       "    </tr>\n",
       "    <tr>\n",
       "      <th>max</th>\n",
       "      <td>7.900000</td>\n",
       "      <td>4.400000</td>\n",
       "      <td>6.900000</td>\n",
       "      <td>2.500000</td>\n",
       "    </tr>\n",
       "  </tbody>\n",
       "</table>\n",
       "</div>"
      ],
      "text/plain": [
       "       sepal length (cm)  sepal width (cm)  petal length (cm)  \\\n",
       "count         150.000000        150.000000         150.000000   \n",
       "mean            5.843333          3.057333           3.758000   \n",
       "std             0.828066          0.435866           1.765298   \n",
       "min             4.300000          2.000000           1.000000   \n",
       "25%             5.100000          2.800000           1.600000   \n",
       "50%             5.800000          3.000000           4.350000   \n",
       "75%             6.400000          3.300000           5.100000   \n",
       "max             7.900000          4.400000           6.900000   \n",
       "\n",
       "       petal width (cm)  \n",
       "count        150.000000  \n",
       "mean           1.199333  \n",
       "std            0.762238  \n",
       "min            0.100000  \n",
       "25%            0.300000  \n",
       "50%            1.300000  \n",
       "75%            1.800000  \n",
       "max            2.500000  "
      ]
     },
     "execution_count": 10,
     "metadata": {},
     "output_type": "execute_result"
    }
   ],
   "source": [
    "data.describe()"
   ]
  },
  {
   "cell_type": "markdown",
   "metadata": {},
   "source": [
    "# EDA"
   ]
  },
  {
   "cell_type": "code",
   "execution_count": 17,
   "metadata": {},
   "outputs": [
    {
     "data": {
      "text/plain": [
       "array([[<matplotlib.axes._subplots.AxesSubplot object at 0x7f3813392d90>,\n",
       "        <matplotlib.axes._subplots.AxesSubplot object at 0x7f381243ce10>],\n",
       "       [<matplotlib.axes._subplots.AxesSubplot object at 0x7f38124c4950>,\n",
       "        <matplotlib.axes._subplots.AxesSubplot object at 0x7f38124d5f50>]],\n",
       "      dtype=object)"
      ]
     },
     "execution_count": 17,
     "metadata": {},
     "output_type": "execute_result"
    },
    {
     "data": {
      "image/png": "[encoded data removed]",
      "text/plain": [
       "<Figure size 1080x432 with 4 Axes>"
      ]
     },
     "metadata": {
      "needs_background": "light"
     },
     "output_type": "display_data"
    }
   ],
   "source": [
    "data.hist(figsize=(15, 6))"
   ]
  },
  {
   "cell_type": "code",
   "execution_count": 11,
   "metadata": {},
   "outputs": [
    {
     "data": {
      "text/plain": [
       "setosa        50\n",
       "virginica     50\n",
       "versicolor    50\n",
       "Name: class, dtype: int64"
      ]
     },
     "execution_count": 11,
     "metadata": {},
     "output_type": "execute_result"
    }
   ],
   "source": [
    "data['class'].value_counts()"
   ]
  },
  {
   "cell_type": "code",
   "execution_count": 12,
   "metadata": {
    "scrolled": true
   },
   "outputs": [
    {
     "data": {
      "image/png": "[encoded data removed]",
      "text/plain": [
       "<Figure size 432x288 with 1 Axes>"
      ]
     },
     "metadata": {
      "needs_background": "light"
     },
     "output_type": "display_data"
    }
   ],
   "source": [
    "plt.hist(data['class']);"
   ]
  },
  {
   "cell_type": "code",
   "execution_count": 13,
   "metadata": {},
   "outputs": [
    {
     "data": {
      "text/plain": [
       "<seaborn.axisgrid.PairGrid at 0x7f70249f1dd0>"
      ]
     },
     "execution_count": 13,
     "metadata": {},
     "output_type": "execute_result"
    },
    {
     "data": {
      "image/png": "[encoded data removed]",
      "text/plain": [
       "<Figure size 804.75x720 with 20 Axes>"
      ]
     },
     "metadata": {
      "needs_background": "light"
     },
     "output_type": "display_data"
    }
   ],
   "source": [
    "sns.pairplot(data, hue='class')"
   ]
  },
  {
   "cell_type": "markdown",
   "metadata": {},
   "source": [
    "# Train | Test"
   ]
  },
  {
   "cell_type": "code",
   "execution_count": 14,
   "metadata": {},
   "outputs": [],
   "source": [
    "X = data.drop('class', axis=1)\n",
    "y = data[['class']]"
   ]
  },
  {
   "cell_type": "code",
   "execution_count": 15,
   "metadata": {},
   "outputs": [],
   "source": [
    "X_train, X_test, y_train, y_test = train_test_split(X, y, test_size=0.3, random_state=0, stratify=y)"
   ]
  },
  {
   "cell_type": "markdown",
   "metadata": {},
   "source": [
    "# XGBoost"
   ]
  },
  {
   "cell_type": "code",
   "execution_count": 16,
   "metadata": {},
   "outputs": [
    {
     "data": {
      "text/plain": [
       "{'base_score': 0.5,\n",
       " 'booster': 'gbtree',\n",
       " 'colsample_bylevel': 1,\n",
       " 'colsample_bytree': 1,\n",
       " 'gamma': 0,\n",
       " 'learning_rate': 0.1,\n",
       " 'max_delta_step': 0,\n",
       " 'max_depth': 3,\n",
       " 'min_child_weight': 1,\n",
       " 'missing': None,\n",
       " 'n_estimators': 100,\n",
       " 'n_jobs': 1,\n",
       " 'nthread': None,\n",
       " 'objective': 'binary:logistic',\n",
       " 'random_state': 0,\n",
       " 'reg_alpha': 0,\n",
       " 'reg_lambda': 1,\n",
       " 'scale_pos_weight': 1,\n",
       " 'seed': None,\n",
       " 'silent': True,\n",
       " 'subsample': 1}"
      ]
     },
     "execution_count": 16,
     "metadata": {},
     "output_type": "execute_result"
    }
   ],
   "source": [
    "xgb.XGBClassifier().get_params()"
   ]
  },
  {
   "cell_type": "code",
   "execution_count": 17,
   "metadata": {},
   "outputs": [],
   "source": [
    "scaler = StandardScaler()\n",
    "X_train = scaler.fit_transform(X_train)\n",
    "X_test = scaler.transform(X_test)"
   ]
  },
  {
   "cell_type": "code",
   "execution_count": 18,
   "metadata": {},
   "outputs": [],
   "source": [
    "xgb_clf = xgb.XGBClassifier(n_jobs=-1)"
   ]
  },
  {
   "cell_type": "code",
   "execution_count": 19,
   "metadata": {},
   "outputs": [
    {
     "name": "stdout",
     "output_type": "stream",
     "text": [
      "XGBoost train accuracy score: 0.956\n",
      "XGBoost test  accuracy score: 0.962\n",
      "max_depth: 2\n",
      "n_estimators: 10\n",
      "reg_alpha: 0.25\n",
      "reg_lambda: 0.0\n"
     ]
    }
   ],
   "source": [
    "params = {\n",
    "    'max_depth': [2, 3, 4], \n",
    "    'n_estimators': range(10, 101, 20), \n",
    "    'reg_lambda': np.linspace(0, 1, 5), \n",
    "    'reg_alpha': np.linspace(0, 1, 5)\n",
    "}\n",
    "cv = KFold(5)\n",
    "\n",
    "search = GridSearchCV(estimator=xgb_clf, \n",
    "                      param_grid=params, \n",
    "                      cv=cv)\n",
    "\n",
    "search.fit(X_train, y_train)\n",
    "\n",
    "xgb_train_score = accuracy_score(y_test, search.predict(X_test))\n",
    "xgb_test_score = accuracy_score(y_train, search.predict(X_train))\n",
    "print(f\"XGBoost train accuracy score: {round(xgb_train_score, 3)}\")\n",
    "print(f\"XGBoost test  accuracy score: {round(xgb_test_score, 3)}\")\n",
    "print('\\n'.join([f\"{key}: {value}\" for key, value in search.best_params_.items()]))"
   ]
  },
  {
   "cell_type": "markdown",
   "metadata": {},
   "source": [
    "# Random Forest"
   ]
  },
  {
   "cell_type": "code",
   "execution_count": 20,
   "metadata": {},
   "outputs": [
    {
     "data": {
      "text/plain": [
       "{'bootstrap': True,\n",
       " 'class_weight': None,\n",
       " 'criterion': 'gini',\n",
       " 'max_depth': None,\n",
       " 'max_features': 'auto',\n",
       " 'max_leaf_nodes': None,\n",
       " 'min_impurity_decrease': 0.0,\n",
       " 'min_impurity_split': None,\n",
       " 'min_samples_leaf': 1,\n",
       " 'min_samples_split': 2,\n",
       " 'min_weight_fraction_leaf': 0.0,\n",
       " 'n_estimators': 'warn',\n",
       " 'n_jobs': None,\n",
       " 'oob_score': False,\n",
       " 'random_state': None,\n",
       " 'verbose': 0,\n",
       " 'warm_start': False}"
      ]
     },
     "execution_count": 20,
     "metadata": {},
     "output_type": "execute_result"
    }
   ],
   "source": [
    "RandomForestClassifier().get_params()"
   ]
  },
  {
   "cell_type": "code",
   "execution_count": 21,
   "metadata": {},
   "outputs": [],
   "source": [
    "rf_clf = RandomForestClassifier(n_jobs=-1)"
   ]
  },
  {
   "cell_type": "code",
   "execution_count": 22,
   "metadata": {},
   "outputs": [
    {
     "name": "stdout",
     "output_type": "stream",
     "text": [
      "Fitting 5 folds for each of 12 candidates, totalling 60 fits\n"
     ]
    },
    {
     "name": "stderr",
     "output_type": "stream",
     "text": [
      "[Parallel(n_jobs=-1)]: Using backend LokyBackend with 8 concurrent workers.\n",
      "[Parallel(n_jobs=-1)]: Done  34 tasks      | elapsed:    8.4s\n",
      "[Parallel(n_jobs=-1)]: Done  60 out of  60 | elapsed:   12.7s finished\n",
      "/home/alikhan/anaconda3/lib/python3.7/site-packages/sklearn/model_selection/_search.py:714: DataConversionWarning: A column-vector y was passed when a 1d array was expected. Please change the shape of y to (n_samples,), for example using ravel().\n",
      "  self.best_estimator_.fit(X, y, **fit_params)\n"
     ]
    },
    {
     "name": "stdout",
     "output_type": "stream",
     "text": [
      "Random Forest train accuracy score: 1.0\n",
      "Random Forest  accuracy score: 1.0\n",
      "criterion: gini\n",
      "min_samples_split: 2\n",
      "n_estimators: 100\n"
     ]
    }
   ],
   "source": [
    "params = {\n",
    "#     'class_weight': 'balanced', \n",
    "    'criterion': ['gini', 'entropy'], \n",
    "    'min_samples_split': [2, 3], \n",
    "    'n_estimators': [100, 200, 300], \n",
    "}\n",
    "cv = KFold(5)\n",
    "\n",
    "search = GridSearchCV(estimator=rf_clf, \n",
    "                      param_grid=params, \n",
    "                      cv=cv, verbose=True, n_jobs=-1)\n",
    "\n",
    "search.fit(X_train, y_train, )\n",
    "\n",
    "rf_train_score = accuracy_score(y_test, search.predict(X_test))\n",
    "rf_test_score = accuracy_score(y_train, search.predict(X_train))\n",
    "print(f\"Random Forest train accuracy score: {round(rf_train_score, 3)}\")\n",
    "print(f\"Random Forest  accuracy score: {round(rf_test_score, 3)}\")\n",
    "print('\\n'.join([f\"{key}: {value}\" for key, value in search.best_params_.items()]))"
   ]
  },
  {
   "cell_type": "markdown",
   "metadata": {},
   "source": [
    "# LightGBM"
   ]
  },
  {
   "cell_type": "code",
   "execution_count": 23,
   "metadata": {},
   "outputs": [
    {
     "data": {
      "text/plain": [
       "{'boosting_type': 'gbdt',\n",
       " 'class_weight': None,\n",
       " 'colsample_bytree': 1.0,\n",
       " 'importance_type': 'split',\n",
       " 'learning_rate': 0.1,\n",
       " 'max_depth': -1,\n",
       " 'min_child_samples': 20,\n",
       " 'min_child_weight': 0.001,\n",
       " 'min_split_gain': 0.0,\n",
       " 'n_estimators': 100,\n",
       " 'n_jobs': -1,\n",
       " 'num_leaves': 31,\n",
       " 'objective': None,\n",
       " 'random_state': None,\n",
       " 'reg_alpha': 0.0,\n",
       " 'reg_lambda': 0.0,\n",
       " 'silent': True,\n",
       " 'subsample': 1.0,\n",
       " 'subsample_for_bin': 200000,\n",
       " 'subsample_freq': 0}"
      ]
     },
     "execution_count": 23,
     "metadata": {},
     "output_type": "execute_result"
    }
   ],
   "source": [
    "lgb.LGBMClassifier().get_params()"
   ]
  },
  {
   "cell_type": "code",
   "execution_count": 24,
   "metadata": {},
   "outputs": [],
   "source": [
    "lgb_clf = lgb.LGBMClassifier(n_jobs=-1, objective='multiclass')"
   ]
  },
  {
   "cell_type": "code",
   "execution_count": 25,
   "metadata": {},
   "outputs": [
    {
     "name": "stdout",
     "output_type": "stream",
     "text": [
      "Fitting 5 folds for each of 1875 candidates, totalling 9375 fits\n"
     ]
    },
    {
     "name": "stderr",
     "output_type": "stream",
     "text": [
      "[Parallel(n_jobs=1)]: Using backend SequentialBackend with 1 concurrent workers.\n"
     ]
    },
    {
     "name": "stdout",
     "output_type": "stream",
     "text": [
      "LightGBM train accuracy score: 0.956\n",
      "LightGBM  accuracy score: 0.962\n",
      "boosting_type: gbdt\n",
      "learning_rate: 0.01\n",
      "n_estimators: 100\n",
      "reg_alpha: 0.0\n",
      "reg_lambda: 0.0\n"
     ]
    },
    {
     "name": "stderr",
     "output_type": "stream",
     "text": [
      "[Parallel(n_jobs=1)]: Done 9375 out of 9375 | elapsed: 11.0min finished\n"
     ]
    }
   ],
   "source": [
    "params = {\n",
    "    'boosting_type': ['gbdt', 'dart', 'goss'], \n",
    "    'learning_rate': np.linspace(0.01, 0.1, 5), \n",
    "    'n_estimators': range(100, 501, 100), \n",
    "    'reg_alpha': np.linspace(0, 1, 5), \n",
    "    'reg_lambda': np.linspace(0, 1, 5)\n",
    "}\n",
    "cv = KFold(5)\n",
    "\n",
    "search = GridSearchCV(estimator=lgb_clf, \n",
    "                      param_grid=params, \n",
    "                      cv=cv, verbose=True)\n",
    "\n",
    "search.fit(X_train, y_train)\n",
    "\n",
    "lgb_train_score = accuracy_score(y_test, search.predict(X_test))\n",
    "lgb_test_score = accuracy_score(y_train, search.predict(X_train))\n",
    "print(f\"LightGBM train accuracy score: {round(lgb_train_score, 3)}\")\n",
    "print(f\"LightGBM  accuracy score: {round(lgb_test_score, 3)}\")\n",
    "print('\\n'.join([f\"{key}: {value}\" for key, value in search.best_params_.items()]))"
   ]
  },
  {
   "cell_type": "markdown",
   "metadata": {},
   "source": [
    "# Autogluon"
   ]
  },
  {
   "cell_type": "code",
   "execution_count": 26,
   "metadata": {},
   "outputs": [],
   "source": [
    "X_train, X_test, y_train, y_test = train_test_split(X, y, test_size=0.3, random_state=0, stratify=y)"
   ]
  },
  {
   "cell_type": "code",
   "execution_count": 27,
   "metadata": {},
   "outputs": [
    {
     "name": "stderr",
     "output_type": "stream",
     "text": [
      "No output_directory specified. Models will be saved in: AutogluonModels/ag-20200202_142242/\n",
      "Beginning AutoGluon training ...\n",
      "AutoGluon will save models to AutogluonModels/ag-20200202_142242/\n",
      "Preprocessing data ...\n",
      "Here are the first 10 unique label values in your data:  ['virginica' 'setosa' 'versicolor']\n",
      "AutoGluon infers your prediction problem is: multiclass  (because dtype of label-column == object)\n",
      "If this is wrong, please specify `problem_type` argument in fit() instead (You may specify problem_type as one of: ['binary', 'multiclass', 'regression'])\n",
      "\n",
      "\tData preprocessing and feature engineering runtime = 0.06s ...\n",
      "AutoGluon will gauge predictive performance using evaluation metric: accuracy\n",
      "To change this, specify the eval_metric argument of fit()\n",
      "/home/alikhan/anaconda3/lib/python3.7/imp.py:342: DeprecationWarning: Using or importing the ABCs from 'collections' instead of from 'collections.abc' is deprecated, and in 3.8 it will stop working\n",
      "  return _load(spec)\n",
      "Starting Experiments\n",
      "Num of Finished Tasks is 0\n",
      "Num of Pending Tasks is 1000\n"
     ]
    },
    {
     "data": {
      "application/vnd.jupyter.widget-view+json": {
       "model_id": "b426baddd8a243d580fcb11ec3628bfb",
       "version_major": 2,
       "version_minor": 0
      },
      "text/plain": [
       "HBox(children=(FloatProgress(value=0.0, max=1000.0), HTML(value='')))"
      ]
     },
     "metadata": {},
     "output_type": "display_data"
    },
    {
     "name": "stderr",
     "output_type": "stream",
     "text": [
      "Finished Task with config: {'feature_fraction': 1.0, 'learning_rate': 0.1, 'min_data_in_leaf': 20, 'num_leaves': 31} and reward: 0.9523809523809523\n",
      "Finished Task with config: {'feature_fraction': 0.8418007627446443, 'learning_rate': 0.01886238764828841, 'min_data_in_leaf': 3, 'num_leaves': 29} and reward: 0.9523809523809523\n",
      "Finished Task with config: {'feature_fraction': 0.83167883134433, 'learning_rate': 0.04391344422943545, 'min_data_in_leaf': 19, 'num_leaves': 67} and reward: 0.9523809523809523\n",
      "Finished Task with config: {'feature_fraction': 0.7759906411961606, 'learning_rate': 0.020407513152810558, 'min_data_in_leaf': 27, 'num_leaves': 81} and reward: 0.9523809523809523\n",
      "Finished Task with config: {'feature_fraction': 0.9572693936579014, 'learning_rate': 0.07567308562641357, 'min_data_in_leaf': 26, 'num_leaves': 42} and reward: 0.9047619047619048\n",
      "Finished Task with config: {'feature_fraction': 0.8549119454795692, 'learning_rate': 0.13609969407895947, 'min_data_in_leaf': 2, 'num_leaves': 68} and reward: 0.9523809523809523\n",
      "Finished Task with config: {'feature_fraction': 0.76559155386484, 'learning_rate': 0.024700275080566603, 'min_data_in_leaf': 4, 'num_leaves': 56} and reward: 0.9523809523809523\n",
      "Finished Task with config: {'feature_fraction': 0.8372851659620542, 'learning_rate': 0.010755160304820533, 'min_data_in_leaf': 27, 'num_leaves': 84} and reward: 0.9523809523809523\n",
      "Finished Task with config: {'feature_fraction': 0.8785693618066841, 'learning_rate': 0.011040181786631948, 'min_data_in_leaf': 13, 'num_leaves': 37} and reward: 0.9047619047619048\n",
      "Finished Task with config: {'feature_fraction': 0.8396297483619529, 'learning_rate': 0.015995275778102634, 'min_data_in_leaf': 12, 'num_leaves': 57} and reward: 0.9523809523809523\n",
      "Finished Task with config: {'feature_fraction': 0.9678761771445595, 'learning_rate': 0.05605257017964696, 'min_data_in_leaf': 10, 'num_leaves': 84} and reward: 0.9523809523809523\n",
      "Finished Task with config: {'feature_fraction': 0.8409617343023339, 'learning_rate': 0.12533900547003782, 'min_data_in_leaf': 4, 'num_leaves': 78} and reward: 0.9523809523809523\n",
      "Finished Task with config: {'feature_fraction': 0.9812972209273442, 'learning_rate': 0.012326378263192583, 'min_data_in_leaf': 18, 'num_leaves': 20} and reward: 0.9047619047619048\n",
      "Finished Task with config: {'feature_fraction': 0.8740432406701576, 'learning_rate': 0.05725683435045883, 'min_data_in_leaf': 15, 'num_leaves': 60} and reward: 0.9523809523809523\n",
      "Finished Task with config: {'feature_fraction': 0.9776282326508439, 'learning_rate': 0.005699268463431069, 'min_data_in_leaf': 6, 'num_leaves': 72} and reward: 0.9047619047619048\n",
      "Finished Task with config: {'feature_fraction': 0.8635782346347921, 'learning_rate': 0.06840070429897666, 'min_data_in_leaf': 21, 'num_leaves': 54} and reward: 0.9523809523809523\n",
      "Finished Task with config: {'feature_fraction': 0.9638714904583865, 'learning_rate': 0.019149379611110847, 'min_data_in_leaf': 6, 'num_leaves': 16} and reward: 0.9047619047619048\n",
      "Finished Task with config: {'feature_fraction': 0.8760825729837096, 'learning_rate': 0.042502588949225276, 'min_data_in_leaf': 25, 'num_leaves': 92} and reward: 0.9047619047619048\n",
      "Finished Task with config: {'feature_fraction': 0.7858338927155923, 'learning_rate': 0.03184840887106078, 'min_data_in_leaf': 16, 'num_leaves': 58} and reward: 0.9523809523809523\n",
      "Finished Task with config: {'feature_fraction': 0.9620342389325622, 'learning_rate': 0.08957904083781557, 'min_data_in_leaf': 15, 'num_leaves': 59} and reward: 0.9523809523809523\n",
      "Finished Task with config: {'feature_fraction': 0.8379167460602903, 'learning_rate': 0.014416390000546554, 'min_data_in_leaf': 17, 'num_leaves': 35} and reward: 0.9523809523809523\n",
      "Finished Task with config: {'feature_fraction': 0.8873614241323917, 'learning_rate': 0.028168142906758863, 'min_data_in_leaf': 16, 'num_leaves': 89} and reward: 0.9047619047619048\n",
      "Finished Task with config: {'feature_fraction': 0.9625117541016734, 'learning_rate': 0.01599368044496481, 'min_data_in_leaf': 28, 'num_leaves': 33} and reward: 0.9047619047619048\n",
      "Finished Task with config: {'feature_fraction': 0.9414932330996348, 'learning_rate': 0.03819638167688126, 'min_data_in_leaf': 28, 'num_leaves': 23} and reward: 0.9047619047619048\n",
      "Finished Task with config: {'feature_fraction': 0.8080506791399107, 'learning_rate': 0.02540974523508085, 'min_data_in_leaf': 29, 'num_leaves': 81} and reward: 0.8571428571428571\n",
      "Finished Task with config: {'feature_fraction': 0.8662929653441693, 'learning_rate': 0.03520596170388014, 'min_data_in_leaf': 4, 'num_leaves': 87} and reward: 0.9523809523809523\n",
      "Finished Task with config: {'feature_fraction': 0.8412716443010116, 'learning_rate': 0.01521750340807059, 'min_data_in_leaf': 15, 'num_leaves': 94} and reward: 0.9523809523809523\n",
      "Finished Task with config: {'feature_fraction': 0.9351557497950773, 'learning_rate': 0.1040342323029479, 'min_data_in_leaf': 20, 'num_leaves': 72} and reward: 0.9523809523809523\n",
      "Finished Task with config: {'feature_fraction': 0.7664070231153869, 'learning_rate': 0.006009670121370207, 'min_data_in_leaf': 29, 'num_leaves': 43} and reward: 0.8571428571428571\n",
      "Finished Task with config: {'feature_fraction': 0.9621831202934141, 'learning_rate': 0.029702629954884804, 'min_data_in_leaf': 13, 'num_leaves': 78} and reward: 0.9047619047619048\n",
      "Finished Task with config: {'feature_fraction': 0.7990995218223764, 'learning_rate': 0.16042799174851655, 'min_data_in_leaf': 16, 'num_leaves': 49} and reward: 0.9523809523809523\n",
      "Finished Task with config: {'feature_fraction': 0.7666944049238871, 'learning_rate': 0.10541049764993837, 'min_data_in_leaf': 19, 'num_leaves': 37} and reward: 0.9523809523809523\n",
      "Finished Task with config: {'feature_fraction': 0.7911511030067979, 'learning_rate': 0.034409840606093825, 'min_data_in_leaf': 27, 'num_leaves': 64} and reward: 0.9523809523809523\n",
      "Finished Task with config: {'feature_fraction': 0.8772159101128006, 'learning_rate': 0.032046827065142384, 'min_data_in_leaf': 30, 'num_leaves': 46} and reward: 0.8571428571428571\n",
      "Finished Task with config: {'feature_fraction': 0.9918301772826152, 'learning_rate': 0.19968110384906904, 'min_data_in_leaf': 26, 'num_leaves': 56} and reward: 0.9523809523809523\n",
      "Finished Task with config: {'feature_fraction': 0.9003691322827891, 'learning_rate': 0.009341950546569123, 'min_data_in_leaf': 21, 'num_leaves': 61} and reward: 0.9047619047619048\n",
      "Finished Task with config: {'feature_fraction': 0.8683069616474186, 'learning_rate': 0.023474999564154032, 'min_data_in_leaf': 10, 'num_leaves': 21} and reward: 0.9523809523809523\n",
      "Finished Task with config: {'feature_fraction': 0.9943755041701228, 'learning_rate': 0.00956485284108833, 'min_data_in_leaf': 12, 'num_leaves': 89} and reward: 0.9047619047619048\n",
      "Finished Task with config: {'feature_fraction': 0.811838505731127, 'learning_rate': 0.09273338862088819, 'min_data_in_leaf': 27, 'num_leaves': 71} and reward: 0.9523809523809523\n",
      "Finished Task with config: {'feature_fraction': 0.9453808798968802, 'learning_rate': 0.03823728682009108, 'min_data_in_leaf': 3, 'num_leaves': 72} and reward: 0.9047619047619048\n",
      "Finished Task with config: {'feature_fraction': 0.9009210519906106, 'learning_rate': 0.010584132064207757, 'min_data_in_leaf': 14, 'num_leaves': 40} and reward: 0.9047619047619048\n",
      "Finished Task with config: {'feature_fraction': 0.8814999141351548, 'learning_rate': 0.011521871381573134, 'min_data_in_leaf': 18, 'num_leaves': 75} and reward: 0.9047619047619048\n",
      "Finished Task with config: {'feature_fraction': 0.7995145922369843, 'learning_rate': 0.042500691503327234, 'min_data_in_leaf': 18, 'num_leaves': 90} and reward: 0.9523809523809523\n",
      "Finished Task with config: {'feature_fraction': 0.9109514269257863, 'learning_rate': 0.11964185326866665, 'min_data_in_leaf': 7, 'num_leaves': 80} and reward: 0.9523809523809523\n",
      "Finished Task with config: {'feature_fraction': 0.8667160471156204, 'learning_rate': 0.0332902673280833, 'min_data_in_leaf': 20, 'num_leaves': 72} and reward: 0.9523809523809523\n",
      "Finished Task with config: {'feature_fraction': 0.8800076212857846, 'learning_rate': 0.008514554487256167, 'min_data_in_leaf': 28, 'num_leaves': 57} and reward: 0.9047619047619048\n",
      "Finished Task with config: {'feature_fraction': 0.9580303403655048, 'learning_rate': 0.008754109921501234, 'min_data_in_leaf': 22, 'num_leaves': 25} and reward: 0.9047619047619048\n",
      "Finished Task with config: {'feature_fraction': 0.9502630117929465, 'learning_rate': 0.019092961313738433, 'min_data_in_leaf': 16, 'num_leaves': 56} and reward: 0.9047619047619048\n",
      "Finished Task with config: {'feature_fraction': 0.9764935510957049, 'learning_rate': 0.013200093372736348, 'min_data_in_leaf': 26, 'num_leaves': 18} and reward: 0.9047619047619048\n",
      "Finished Task with config: {'feature_fraction': 0.8180004063490998, 'learning_rate': 0.02519595303180712, 'min_data_in_leaf': 28, 'num_leaves': 55} and reward: 0.9523809523809523\n",
      "Finished Task with config: {'feature_fraction': 0.9140104597889108, 'learning_rate': 0.012682098845212084, 'min_data_in_leaf': 15, 'num_leaves': 40} and reward: 0.9047619047619048\n",
      "Finished Task with config: {'feature_fraction': 0.8179828354287311, 'learning_rate': 0.01453307453076336, 'min_data_in_leaf': 13, 'num_leaves': 52} and reward: 0.9523809523809523\n",
      "Finished Task with config: {'feature_fraction': 0.8555667029096127, 'learning_rate': 0.1134264522080518, 'min_data_in_leaf': 16, 'num_leaves': 84} and reward: 0.9523809523809523\n",
      "Finished Task with config: {'feature_fraction': 0.810240353949053, 'learning_rate': 0.022945407397577028, 'min_data_in_leaf': 19, 'num_leaves': 24} and reward: 0.9523809523809523\n",
      "Finished Task with config: {'feature_fraction': 0.8996411725524118, 'learning_rate': 0.1070024473564725, 'min_data_in_leaf': 17, 'num_leaves': 63} and reward: 0.9523809523809523\n",
      "Finished Task with config: {'feature_fraction': 0.8053373892419493, 'learning_rate': 0.03124999209043682, 'min_data_in_leaf': 13, 'num_leaves': 18} and reward: 0.9523809523809523\n",
      "Finished Task with config: {'feature_fraction': 0.8775432885831047, 'learning_rate': 0.012900221184987215, 'min_data_in_leaf': 26, 'num_leaves': 75} and reward: 0.9047619047619048\n",
      "Finished Task with config: {'feature_fraction': 0.7834835643046094, 'learning_rate': 0.007490711548601767, 'min_data_in_leaf': 17, 'num_leaves': 39} and reward: 0.9523809523809523\n",
      "Finished Task with config: {'feature_fraction': 0.8244644868386239, 'learning_rate': 0.056377278832775664, 'min_data_in_leaf': 16, 'num_leaves': 71} and reward: 0.9523809523809523\n",
      "Finished Task with config: {'feature_fraction': 0.8034261611541852, 'learning_rate': 0.010258552618929082, 'min_data_in_leaf': 19, 'num_leaves': 29} and reward: 0.9523809523809523\n",
      "Finished Task with config: {'feature_fraction': 0.8214563672759991, 'learning_rate': 0.012245430223987799, 'min_data_in_leaf': 2, 'num_leaves': 48} and reward: 0.9523809523809523\n",
      "Finished Task with config: {'feature_fraction': 0.8961372536855738, 'learning_rate': 0.1341899820156532, 'min_data_in_leaf': 6, 'num_leaves': 16} and reward: 0.9047619047619048\n",
      "Finished Task with config: {'feature_fraction': 0.8633097946747741, 'learning_rate': 0.014776750310087265, 'min_data_in_leaf': 21, 'num_leaves': 62} and reward: 0.9523809523809523\n",
      "Finished Task with config: {'feature_fraction': 0.7873376452973224, 'learning_rate': 0.0582206272968622, 'min_data_in_leaf': 21, 'num_leaves': 44} and reward: 0.9523809523809523\n",
      "Finished Task with config: {'feature_fraction': 0.9801864306945094, 'learning_rate': 0.015383683095331556, 'min_data_in_leaf': 12, 'num_leaves': 51} and reward: 0.9047619047619048\n",
      "Finished Task with config: {'feature_fraction': 0.9707344097218579, 'learning_rate': 0.13542929964364067, 'min_data_in_leaf': 28, 'num_leaves': 38} and reward: 0.9047619047619048\n",
      "Finished Task with config: {'feature_fraction': 0.8509200428270355, 'learning_rate': 0.010561068419790298, 'min_data_in_leaf': 25, 'num_leaves': 30} and reward: 0.9523809523809523\n",
      "Finished Task with config: {'feature_fraction': 0.8154121517823709, 'learning_rate': 0.01071289173151294, 'min_data_in_leaf': 30, 'num_leaves': 28} and reward: 0.8571428571428571\n",
      "Finished Task with config: {'feature_fraction': 0.8418347133286341, 'learning_rate': 0.029688611171637846, 'min_data_in_leaf': 29, 'num_leaves': 69} and reward: 0.8571428571428571\n",
      "Finished Task with config: {'feature_fraction': 0.8085010883538999, 'learning_rate': 0.023913352919751395, 'min_data_in_leaf': 22, 'num_leaves': 77} and reward: 0.9523809523809523\n",
      "Finished Task with config: {'feature_fraction': 0.9654140632785788, 'learning_rate': 0.020222103671792488, 'min_data_in_leaf': 17, 'num_leaves': 42} and reward: 0.9047619047619048\n",
      "Finished Task with config: {'feature_fraction': 0.8476641094771995, 'learning_rate': 0.025561128789125198, 'min_data_in_leaf': 15, 'num_leaves': 35} and reward: 0.9523809523809523\n",
      "Finished Task with config: {'feature_fraction': 0.8745553362201114, 'learning_rate': 0.00632004070116479, 'min_data_in_leaf': 13, 'num_leaves': 92} and reward: 0.9523809523809523\n",
      "Finished Task with config: {'feature_fraction': 0.8310513359781672, 'learning_rate': 0.06088076505265926, 'min_data_in_leaf': 8, 'num_leaves': 57} and reward: 0.9523809523809523\n",
      "Finished Task with config: {'feature_fraction': 0.7819669476438756, 'learning_rate': 0.01779538533340269, 'min_data_in_leaf': 3, 'num_leaves': 82} and reward: 0.9523809523809523\n",
      "Finished Task with config: {'feature_fraction': 0.7765557882994083, 'learning_rate': 0.009227562394988445, 'min_data_in_leaf': 7, 'num_leaves': 88} and reward: 0.9523809523809523\n",
      "Finished Task with config: {'feature_fraction': 0.7756027841207611, 'learning_rate': 0.005988918256739912, 'min_data_in_leaf': 19, 'num_leaves': 77} and reward: 0.9523809523809523\n",
      "Finished Task with config: {'feature_fraction': 0.9465678748752361, 'learning_rate': 0.11113581315575527, 'min_data_in_leaf': 15, 'num_leaves': 63} and reward: 0.9523809523809523\n",
      "Finished Task with config: {'feature_fraction': 0.9434981063059709, 'learning_rate': 0.006251567421662246, 'min_data_in_leaf': 29, 'num_leaves': 37} and reward: 0.8571428571428571\n",
      "Finished Task with config: {'feature_fraction': 0.9833271036143958, 'learning_rate': 0.19547302959671736, 'min_data_in_leaf': 23, 'num_leaves': 16} and reward: 0.9523809523809523\n",
      "Finished Task with config: {'feature_fraction': 0.8335931434635596, 'learning_rate': 0.07027906275323297, 'min_data_in_leaf': 20, 'num_leaves': 74} and reward: 0.9523809523809523\n",
      "Finished Task with config: {'feature_fraction': 0.9942098284088072, 'learning_rate': 0.005293600138374279, 'min_data_in_leaf': 19, 'num_leaves': 68} and reward: 0.9047619047619048\n",
      "Finished Task with config: {'feature_fraction': 0.8813458379326427, 'learning_rate': 0.1485265832462355, 'min_data_in_leaf': 27, 'num_leaves': 65} and reward: 0.9047619047619048\n",
      "Finished Task with config: {'feature_fraction': 0.9009123476592394, 'learning_rate': 0.07812546256371405, 'min_data_in_leaf': 20, 'num_leaves': 50} and reward: 0.9523809523809523\n",
      "Finished Task with config: {'feature_fraction': 0.8887981450269937, 'learning_rate': 0.026569448713212818, 'min_data_in_leaf': 8, 'num_leaves': 74} and reward: 0.9523809523809523\n",
      "Finished Task with config: {'feature_fraction': 0.9451886070065072, 'learning_rate': 0.09762058643987587, 'min_data_in_leaf': 2, 'num_leaves': 33} and reward: 0.9047619047619048\n",
      "Finished Task with config: {'feature_fraction': 0.7950434696457047, 'learning_rate': 0.15999602593562764, 'min_data_in_leaf': 3, 'num_leaves': 65} and reward: 0.9523809523809523\n",
      "Finished Task with config: {'feature_fraction': 0.9916108731127729, 'learning_rate': 0.013812816714965568, 'min_data_in_leaf': 14, 'num_leaves': 37} and reward: 0.9047619047619048\n",
      "Finished Task with config: {'feature_fraction': 0.7850971845823247, 'learning_rate': 0.044994145803451804, 'min_data_in_leaf': 23, 'num_leaves': 32} and reward: 0.9523809523809523\n",
      "Finished Task with config: {'feature_fraction': 0.8884014950558562, 'learning_rate': 0.018155330118888164, 'min_data_in_leaf': 27, 'num_leaves': 72} and reward: 0.9047619047619048\n",
      "Finished Task with config: {'feature_fraction': 0.8729826982924932, 'learning_rate': 0.07647012222147205, 'min_data_in_leaf': 29, 'num_leaves': 82} and reward: 0.8571428571428571\n",
      "Starting Experiments\n",
      "Num of Finished Tasks is 0\n",
      "Num of Pending Tasks is 1000\n"
     ]
    },
    {
     "data": {
      "application/vnd.jupyter.widget-view+json": {
       "model_id": "5348fb1e445c4361b89fe6de7119bea4",
       "version_major": 2,
       "version_minor": 0
      },
      "text/plain": [
       "HBox(children=(FloatProgress(value=0.0, max=1000.0), HTML(value='')))"
      ]
     },
     "metadata": {},
     "output_type": "display_data"
    },
    {
     "name": "stderr",
     "output_type": "stream",
     "text": [
      "Finished Task with config: {'depth': 6, 'l2_leaf_reg': 3.0, 'learning_rate': 0.1} and reward: 1.0\n",
      "Finished Task with config: {'depth': 8, 'l2_leaf_reg': 4.497796175466444, 'learning_rate': 0.011220918745379246} and reward: 1.0\n"
     ]
    },
    {
     "name": "stdout",
     "output_type": "stream",
     "text": [
      "\n"
     ]
    },
    {
     "name": "stderr",
     "output_type": "stream",
     "text": [
      "Starting Experiments\n",
      "Num of Finished Tasks is 0\n",
      "Num of Pending Tasks is 1000\n"
     ]
    },
    {
     "data": {
      "application/vnd.jupyter.widget-view+json": {
       "model_id": "5dbf7fcd8d704dadb10f1c6c4574b69e",
       "version_major": 2,
       "version_minor": 0
      },
      "text/plain": [
       "HBox(children=(FloatProgress(value=0.0, max=1000.0), HTML(value='')))"
      ]
     },
     "metadata": {},
     "output_type": "display_data"
    },
    {
     "name": "stderr",
     "output_type": "stream",
     "text": [
      "Finished Task with config: {'activation.choice': 0, 'dropout_prob': 0.1, 'embedding_size_factor': 1.0, 'layers.choice': 0, 'learning_rate': 0.0003, 'network_type.choice': 0, 'use_batchnorm.choice': 0, 'weight_decay': 1e-06} and reward: 1.0\n"
     ]
    },
    {
     "name": "stdout",
     "output_type": "stream",
     "text": [
      "\n",
      "\n",
      "\n",
      "\n",
      "\n",
      "\n"
     ]
    },
    {
     "name": "stderr",
     "output_type": "stream",
     "text": [
      "Finished Task with config: {'activation.choice': 1, 'dropout_prob': 0.34851423321381997, 'embedding_size_factor': 0.9920058530659528, 'layers.choice': 1, 'learning_rate': 0.02869485812022182, 'network_type.choice': 1, 'use_batchnorm.choice': 0, 'weight_decay': 1.2510892054109255e-05} and reward: 1.0\n",
      "Please either provide filename or allow plot in get_training_curves\n",
      "Fitting model: weighted_ensemble_k0_l1 ...\n",
      "\t1.11s\t = Training runtime\n",
      "\t1.0\t = Validation accuracy score\n",
      "AutoGluon training complete, total runtime = 97.69s ...\n"
     ]
    },
    {
     "data": {
      "image/png": "[encoded data removed]",
      "text/plain": [
       "<Figure size 432x288 with 1 Axes>"
      ]
     },
     "metadata": {
      "needs_background": "light"
     },
     "output_type": "display_data"
    }
   ],
   "source": [
    "predictor = task.fit(task.Dataset(X_train.join(y_train)), label='class', verbosity=2, hyperparameter_tune=True)"
   ]
  },
  {
   "cell_type": "code",
   "execution_count": 28,
   "metadata": {},
   "outputs": [
    {
     "data": {
      "text/plain": [
       "0.9333333333333333"
      ]
     },
     "execution_count": 28,
     "metadata": {},
     "output_type": "execute_result"
    }
   ],
   "source": [
    "accuracy_score(y_test, predictor.predict(X_test))"
   ]
  },
  {
   "cell_type": "code",
   "execution_count": 29,
   "metadata": {},
   "outputs": [
    {
     "data": {
      "text/plain": [
       "{'RandomForestClassifierGini': 0.9523809523809523,\n",
       " 'RandomForestClassifierEntr': 0.9523809523809523,\n",
       " 'ExtraTreesClassifierGini': 0.9523809523809523,\n",
       " 'ExtraTreesClassifierEntr': 0.9523809523809523,\n",
       " 'KNeighborsClassifierUnif': 0.9523809523809523,\n",
       " 'KNeighborsClassifierDist': 0.9523809523809523,\n",
       " 'LightGBMClassifier_trial_0': 0.9523809523809523,\n",
       " 'LightGBMClassifier_trial_1': 0.9523809523809523,\n",
       " 'LightGBMClassifier_trial_2': 0.9523809523809523,\n",
       " 'LightGBMClassifier_trial_3': 0.9523809523809523,\n",
       " 'LightGBMClassifier_trial_4': 0.9047619047619048,\n",
       " 'LightGBMClassifier_trial_5': 0.9523809523809523,\n",
       " 'LightGBMClassifier_trial_6': 0.9523809523809523,\n",
       " 'LightGBMClassifier_trial_7': 0.9523809523809523,\n",
       " 'LightGBMClassifier_trial_8': 0.9047619047619048,\n",
       " 'LightGBMClassifier_trial_9': 0.9523809523809523,\n",
       " 'LightGBMClassifier_trial_10': 0.9523809523809523,\n",
       " 'LightGBMClassifier_trial_11': 0.9523809523809523,\n",
       " 'LightGBMClassifier_trial_12': 0.9047619047619048,\n",
       " 'LightGBMClassifier_trial_13': 0.9523809523809523,\n",
       " 'LightGBMClassifier_trial_14': 0.9047619047619048,\n",
       " 'LightGBMClassifier_trial_15': 0.9523809523809523,\n",
       " 'LightGBMClassifier_trial_16': 0.9047619047619048,\n",
       " 'LightGBMClassifier_trial_17': 0.9047619047619048,\n",
       " 'LightGBMClassifier_trial_18': 0.9523809523809523,\n",
       " 'LightGBMClassifier_trial_19': 0.9523809523809523,\n",
       " 'LightGBMClassifier_trial_20': 0.9523809523809523,\n",
       " 'LightGBMClassifier_trial_21': 0.9047619047619048,\n",
       " 'LightGBMClassifier_trial_22': 0.9047619047619048,\n",
       " 'LightGBMClassifier_trial_23': 0.9047619047619048,\n",
       " 'LightGBMClassifier_trial_24': 0.8571428571428571,\n",
       " 'LightGBMClassifier_trial_25': 0.9523809523809523,\n",
       " 'LightGBMClassifier_trial_26': 0.9523809523809523,\n",
       " 'LightGBMClassifier_trial_27': 0.9523809523809523,\n",
       " 'LightGBMClassifier_trial_28': 0.8571428571428571,\n",
       " 'LightGBMClassifier_trial_29': 0.9047619047619048,\n",
       " 'LightGBMClassifier_trial_30': 0.9523809523809523,\n",
       " 'LightGBMClassifier_trial_31': 0.9523809523809523,\n",
       " 'LightGBMClassifier_trial_32': 0.9523809523809523,\n",
       " 'LightGBMClassifier_trial_33': 0.8571428571428571,\n",
       " 'LightGBMClassifier_trial_34': 0.9523809523809523,\n",
       " 'LightGBMClassifier_trial_35': 0.9047619047619048,\n",
       " 'LightGBMClassifier_trial_36': 0.9523809523809523,\n",
       " 'LightGBMClassifier_trial_37': 0.9047619047619048,\n",
       " 'LightGBMClassifier_trial_38': 0.9523809523809523,\n",
       " 'LightGBMClassifier_trial_39': 0.9047619047619048,\n",
       " 'LightGBMClassifier_trial_40': 0.9047619047619048,\n",
       " 'LightGBMClassifier_trial_41': 0.9047619047619048,\n",
       " 'LightGBMClassifier_trial_42': 0.9523809523809523,\n",
       " 'LightGBMClassifier_trial_43': 0.9523809523809523,\n",
       " 'LightGBMClassifier_trial_44': 0.9523809523809523,\n",
       " 'LightGBMClassifier_trial_45': 0.9047619047619048,\n",
       " 'LightGBMClassifier_trial_46': 0.9047619047619048,\n",
       " 'LightGBMClassifier_trial_47': 0.9047619047619048,\n",
       " 'LightGBMClassifier_trial_48': 0.9047619047619048,\n",
       " 'LightGBMClassifier_trial_49': 0.9523809523809523,\n",
       " 'LightGBMClassifier_trial_50': 0.9047619047619048,\n",
       " 'LightGBMClassifier_trial_51': 0.9523809523809523,\n",
       " 'LightGBMClassifier_trial_52': 0.9523809523809523,\n",
       " 'LightGBMClassifier_trial_53': 0.9523809523809523,\n",
       " 'LightGBMClassifier_trial_54': 0.9523809523809523,\n",
       " 'LightGBMClassifier_trial_55': 0.9523809523809523,\n",
       " 'LightGBMClassifier_trial_56': 0.9047619047619048,\n",
       " 'LightGBMClassifier_trial_57': 0.9523809523809523,\n",
       " 'LightGBMClassifier_trial_58': 0.9523809523809523,\n",
       " 'LightGBMClassifier_trial_59': 0.9523809523809523,\n",
       " 'LightGBMClassifier_trial_60': 0.9523809523809523,\n",
       " 'LightGBMClassifier_trial_61': 0.9047619047619048,\n",
       " 'LightGBMClassifier_trial_62': 0.9523809523809523,\n",
       " 'LightGBMClassifier_trial_63': 0.9523809523809523,\n",
       " 'LightGBMClassifier_trial_64': 0.9047619047619048,\n",
       " 'LightGBMClassifier_trial_65': 0.9047619047619048,\n",
       " 'LightGBMClassifier_trial_66': 0.9523809523809523,\n",
       " 'LightGBMClassifier_trial_67': 0.8571428571428571,\n",
       " 'LightGBMClassifier_trial_68': 0.8571428571428571,\n",
       " 'LightGBMClassifier_trial_69': 0.9523809523809523,\n",
       " 'LightGBMClassifier_trial_70': 0.9047619047619048,\n",
       " 'LightGBMClassifier_trial_71': 0.9523809523809523,\n",
       " 'LightGBMClassifier_trial_72': 0.9523809523809523,\n",
       " 'LightGBMClassifier_trial_73': 0.9523809523809523,\n",
       " 'LightGBMClassifier_trial_74': 0.9523809523809523,\n",
       " 'LightGBMClassifier_trial_75': 0.9523809523809523,\n",
       " 'LightGBMClassifier_trial_76': 0.9523809523809523,\n",
       " 'LightGBMClassifier_trial_77': 0.9523809523809523,\n",
       " 'LightGBMClassifier_trial_78': 0.8571428571428571,\n",
       " 'LightGBMClassifier_trial_79': 0.9523809523809523,\n",
       " 'LightGBMClassifier_trial_80': 0.9523809523809523,\n",
       " 'LightGBMClassifier_trial_81': 0.9047619047619048,\n",
       " 'LightGBMClassifier_trial_82': 0.9047619047619048,\n",
       " 'LightGBMClassifier_trial_83': 0.9523809523809523,\n",
       " 'LightGBMClassifier_trial_84': 0.9523809523809523,\n",
       " 'LightGBMClassifier_trial_85': 0.9047619047619048,\n",
       " 'LightGBMClassifier_trial_86': 0.9523809523809523,\n",
       " 'LightGBMClassifier_trial_87': 0.9047619047619048,\n",
       " 'LightGBMClassifier_trial_88': 0.9523809523809523,\n",
       " 'LightGBMClassifier_trial_89': 0.9047619047619048,\n",
       " 'LightGBMClassifier_trial_90': 0.8571428571428571,\n",
       " 'CatboostClassifier_trial_91': 1.0,\n",
       " 'CatboostClassifier_trial_92': 1.0,\n",
       " 'NeuralNetClassifier_trial_93': 1.0,\n",
       " 'NeuralNetClassifier_trial_94': 1.0,\n",
       " 'weighted_ensemble_k0_l1': 1.0}"
      ]
     },
     "execution_count": 29,
     "metadata": {},
     "output_type": "execute_result"
    }
   ],
   "source": [
    "predictor.model_performance"
   ]
  },
  {
   "cell_type": "code",
   "execution_count": 30,
   "metadata": {},
   "outputs": [
    {
     "name": "stdout",
     "output_type": "stream",
     "text": [
      "AutoGluon train accuracy score: 0.962\n",
      "AutoGluon test accuracy score: 0.933\n"
     ]
    }
   ],
   "source": [
    "autogluon_train_score = accuracy_score(y_train, predictor.predict(X_train))\n",
    "autogluon_test_score = accuracy_score(y_test, predictor.predict(X_test))\n",
    "\n",
    "print(f\"AutoGluon train accuracy score: {round(autogluon_train_score, 3)}\")\n",
    "print(f\"AutoGluon test accuracy score: {round(autogluon_test_score, 3)}\")"
   ]
  },
  {
   "cell_type": "code",
   "execution_count": null,
   "metadata": {},
   "outputs": [],
   "source": []
  }
 ],
 "metadata": {
  "kernelspec": {
   "display_name": "Python 3",
   "language": "python",
   "name": "python3"
  },
  "language_info": {
   "codemirror_mode": {
    "name": "ipython",
    "version": 3
   },
   "file_extension": ".py",
   "mimetype": "text/x-python",
   "name": "python",
   "nbconvert_exporter": "python",
   "pygments_lexer": "ipython3",
   "version": "3.7.4"
  },
  "varInspector": {
   "cols": {
    "lenName": 16,
    "lenType": 16,
    "lenVar": 40
   },
   "kernels_config": {
    "python": {
     "delete_cmd_postfix": "",
     "delete_cmd_prefix": "del ",
     "library": "var_list.py",
     "varRefreshCmd": "print(var_dic_list())"
    },
    "r": {
     "delete_cmd_postfix": ") ",
     "delete_cmd_prefix": "rm(",
     "library": "var_list.r",
     "varRefreshCmd": "cat(var_dic_list()) "
    }
   },
   "types_to_exclude": [
    "module",
    "function",
    "builtin_function_or_method",
    "instance",
    "_Feature"
   ],
   "window_display": false
  }
 },
 "nbformat": 4,
 "nbformat_minor": 4
}
